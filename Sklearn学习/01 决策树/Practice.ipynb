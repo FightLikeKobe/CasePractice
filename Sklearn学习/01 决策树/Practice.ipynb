{
 "cells": [
  {
   "cell_type": "code",
   "execution_count": 7,
   "metadata": {},
   "outputs": [],
   "source": [
    "from sklearn import tree\n",
    "from sklearn.datasets import load_wine\n",
    "from sklearn.model_selection import train_test_split"
   ]
  },
  {
   "cell_type": "code",
   "execution_count": 8,
   "metadata": {},
   "outputs": [
    {
     "data": {
      "text/plain": [
       "(178, 13)"
      ]
     },
     "execution_count": 8,
     "metadata": {},
     "output_type": "execute_result"
    }
   ],
   "source": [
    "wine = load_wine()\n",
    "wine.data.shape"
   ]
  },
  {
   "cell_type": "code",
   "execution_count": 9,
   "metadata": {},
   "outputs": [
    {
     "data": {
      "text/html": [
       "<div>\n",
       "<style scoped>\n",
       "    .dataframe tbody tr th:only-of-type {\n",
       "        vertical-align: middle;\n",
       "    }\n",
       "\n",
       "    .dataframe tbody tr th {\n",
       "        vertical-align: top;\n",
       "    }\n",
       "\n",
       "    .dataframe thead th {\n",
       "        text-align: right;\n",
       "    }\n",
       "</style>\n",
       "<table border=\"1\" class=\"dataframe\">\n",
       "  <thead>\n",
       "    <tr style=\"text-align: right;\">\n",
       "      <th></th>\n",
       "      <th>0</th>\n",
       "      <th>1</th>\n",
       "      <th>2</th>\n",
       "      <th>3</th>\n",
       "      <th>4</th>\n",
       "      <th>5</th>\n",
       "      <th>6</th>\n",
       "      <th>7</th>\n",
       "      <th>8</th>\n",
       "      <th>9</th>\n",
       "      <th>10</th>\n",
       "      <th>11</th>\n",
       "      <th>12</th>\n",
       "      <th>0</th>\n",
       "    </tr>\n",
       "  </thead>\n",
       "  <tbody>\n",
       "    <tr>\n",
       "      <th>0</th>\n",
       "      <td>14.23</td>\n",
       "      <td>1.71</td>\n",
       "      <td>2.43</td>\n",
       "      <td>15.6</td>\n",
       "      <td>127.0</td>\n",
       "      <td>2.80</td>\n",
       "      <td>3.06</td>\n",
       "      <td>0.28</td>\n",
       "      <td>2.29</td>\n",
       "      <td>5.64</td>\n",
       "      <td>1.04</td>\n",
       "      <td>3.92</td>\n",
       "      <td>1065.0</td>\n",
       "      <td>0</td>\n",
       "    </tr>\n",
       "    <tr>\n",
       "      <th>1</th>\n",
       "      <td>13.20</td>\n",
       "      <td>1.78</td>\n",
       "      <td>2.14</td>\n",
       "      <td>11.2</td>\n",
       "      <td>100.0</td>\n",
       "      <td>2.65</td>\n",
       "      <td>2.76</td>\n",
       "      <td>0.26</td>\n",
       "      <td>1.28</td>\n",
       "      <td>4.38</td>\n",
       "      <td>1.05</td>\n",
       "      <td>3.40</td>\n",
       "      <td>1050.0</td>\n",
       "      <td>0</td>\n",
       "    </tr>\n",
       "    <tr>\n",
       "      <th>2</th>\n",
       "      <td>13.16</td>\n",
       "      <td>2.36</td>\n",
       "      <td>2.67</td>\n",
       "      <td>18.6</td>\n",
       "      <td>101.0</td>\n",
       "      <td>2.80</td>\n",
       "      <td>3.24</td>\n",
       "      <td>0.30</td>\n",
       "      <td>2.81</td>\n",
       "      <td>5.68</td>\n",
       "      <td>1.03</td>\n",
       "      <td>3.17</td>\n",
       "      <td>1185.0</td>\n",
       "      <td>0</td>\n",
       "    </tr>\n",
       "    <tr>\n",
       "      <th>3</th>\n",
       "      <td>14.37</td>\n",
       "      <td>1.95</td>\n",
       "      <td>2.50</td>\n",
       "      <td>16.8</td>\n",
       "      <td>113.0</td>\n",
       "      <td>3.85</td>\n",
       "      <td>3.49</td>\n",
       "      <td>0.24</td>\n",
       "      <td>2.18</td>\n",
       "      <td>7.80</td>\n",
       "      <td>0.86</td>\n",
       "      <td>3.45</td>\n",
       "      <td>1480.0</td>\n",
       "      <td>0</td>\n",
       "    </tr>\n",
       "    <tr>\n",
       "      <th>4</th>\n",
       "      <td>13.24</td>\n",
       "      <td>2.59</td>\n",
       "      <td>2.87</td>\n",
       "      <td>21.0</td>\n",
       "      <td>118.0</td>\n",
       "      <td>2.80</td>\n",
       "      <td>2.69</td>\n",
       "      <td>0.39</td>\n",
       "      <td>1.82</td>\n",
       "      <td>4.32</td>\n",
       "      <td>1.04</td>\n",
       "      <td>2.93</td>\n",
       "      <td>735.0</td>\n",
       "      <td>0</td>\n",
       "    </tr>\n",
       "    <tr>\n",
       "      <th>...</th>\n",
       "      <td>...</td>\n",
       "      <td>...</td>\n",
       "      <td>...</td>\n",
       "      <td>...</td>\n",
       "      <td>...</td>\n",
       "      <td>...</td>\n",
       "      <td>...</td>\n",
       "      <td>...</td>\n",
       "      <td>...</td>\n",
       "      <td>...</td>\n",
       "      <td>...</td>\n",
       "      <td>...</td>\n",
       "      <td>...</td>\n",
       "      <td>...</td>\n",
       "    </tr>\n",
       "    <tr>\n",
       "      <th>173</th>\n",
       "      <td>13.71</td>\n",
       "      <td>5.65</td>\n",
       "      <td>2.45</td>\n",
       "      <td>20.5</td>\n",
       "      <td>95.0</td>\n",
       "      <td>1.68</td>\n",
       "      <td>0.61</td>\n",
       "      <td>0.52</td>\n",
       "      <td>1.06</td>\n",
       "      <td>7.70</td>\n",
       "      <td>0.64</td>\n",
       "      <td>1.74</td>\n",
       "      <td>740.0</td>\n",
       "      <td>2</td>\n",
       "    </tr>\n",
       "    <tr>\n",
       "      <th>174</th>\n",
       "      <td>13.40</td>\n",
       "      <td>3.91</td>\n",
       "      <td>2.48</td>\n",
       "      <td>23.0</td>\n",
       "      <td>102.0</td>\n",
       "      <td>1.80</td>\n",
       "      <td>0.75</td>\n",
       "      <td>0.43</td>\n",
       "      <td>1.41</td>\n",
       "      <td>7.30</td>\n",
       "      <td>0.70</td>\n",
       "      <td>1.56</td>\n",
       "      <td>750.0</td>\n",
       "      <td>2</td>\n",
       "    </tr>\n",
       "    <tr>\n",
       "      <th>175</th>\n",
       "      <td>13.27</td>\n",
       "      <td>4.28</td>\n",
       "      <td>2.26</td>\n",
       "      <td>20.0</td>\n",
       "      <td>120.0</td>\n",
       "      <td>1.59</td>\n",
       "      <td>0.69</td>\n",
       "      <td>0.43</td>\n",
       "      <td>1.35</td>\n",
       "      <td>10.20</td>\n",
       "      <td>0.59</td>\n",
       "      <td>1.56</td>\n",
       "      <td>835.0</td>\n",
       "      <td>2</td>\n",
       "    </tr>\n",
       "    <tr>\n",
       "      <th>176</th>\n",
       "      <td>13.17</td>\n",
       "      <td>2.59</td>\n",
       "      <td>2.37</td>\n",
       "      <td>20.0</td>\n",
       "      <td>120.0</td>\n",
       "      <td>1.65</td>\n",
       "      <td>0.68</td>\n",
       "      <td>0.53</td>\n",
       "      <td>1.46</td>\n",
       "      <td>9.30</td>\n",
       "      <td>0.60</td>\n",
       "      <td>1.62</td>\n",
       "      <td>840.0</td>\n",
       "      <td>2</td>\n",
       "    </tr>\n",
       "    <tr>\n",
       "      <th>177</th>\n",
       "      <td>14.13</td>\n",
       "      <td>4.10</td>\n",
       "      <td>2.74</td>\n",
       "      <td>24.5</td>\n",
       "      <td>96.0</td>\n",
       "      <td>2.05</td>\n",
       "      <td>0.76</td>\n",
       "      <td>0.56</td>\n",
       "      <td>1.35</td>\n",
       "      <td>9.20</td>\n",
       "      <td>0.61</td>\n",
       "      <td>1.60</td>\n",
       "      <td>560.0</td>\n",
       "      <td>2</td>\n",
       "    </tr>\n",
       "  </tbody>\n",
       "</table>\n",
       "<p>178 rows × 14 columns</p>\n",
       "</div>"
      ],
      "text/plain": [
       "        0     1     2     3      4     5     6     7     8      9     10  \\\n",
       "0    14.23  1.71  2.43  15.6  127.0  2.80  3.06  0.28  2.29   5.64  1.04   \n",
       "1    13.20  1.78  2.14  11.2  100.0  2.65  2.76  0.26  1.28   4.38  1.05   \n",
       "2    13.16  2.36  2.67  18.6  101.0  2.80  3.24  0.30  2.81   5.68  1.03   \n",
       "3    14.37  1.95  2.50  16.8  113.0  3.85  3.49  0.24  2.18   7.80  0.86   \n",
       "4    13.24  2.59  2.87  21.0  118.0  2.80  2.69  0.39  1.82   4.32  1.04   \n",
       "..     ...   ...   ...   ...    ...   ...   ...   ...   ...    ...   ...   \n",
       "173  13.71  5.65  2.45  20.5   95.0  1.68  0.61  0.52  1.06   7.70  0.64   \n",
       "174  13.40  3.91  2.48  23.0  102.0  1.80  0.75  0.43  1.41   7.30  0.70   \n",
       "175  13.27  4.28  2.26  20.0  120.0  1.59  0.69  0.43  1.35  10.20  0.59   \n",
       "176  13.17  2.59  2.37  20.0  120.0  1.65  0.68  0.53  1.46   9.30  0.60   \n",
       "177  14.13  4.10  2.74  24.5   96.0  2.05  0.76  0.56  1.35   9.20  0.61   \n",
       "\n",
       "       11      12  0   \n",
       "0    3.92  1065.0   0  \n",
       "1    3.40  1050.0   0  \n",
       "2    3.17  1185.0   0  \n",
       "3    3.45  1480.0   0  \n",
       "4    2.93   735.0   0  \n",
       "..    ...     ...  ..  \n",
       "173  1.74   740.0   2  \n",
       "174  1.56   750.0   2  \n",
       "175  1.56   835.0   2  \n",
       "176  1.62   840.0   2  \n",
       "177  1.60   560.0   2  \n",
       "\n",
       "[178 rows x 14 columns]"
      ]
     },
     "execution_count": 9,
     "metadata": {},
     "output_type": "execute_result"
    }
   ],
   "source": [
    "import pandas as pd\n",
    "pd.concat([pd.DataFrame(wine.data),pd.DataFrame(wine.target)],axis=1)"
   ]
  },
  {
   "cell_type": "code",
   "execution_count": 10,
   "metadata": {},
   "outputs": [
    {
     "data": {
      "text/plain": [
       "['alcohol',\n",
       " 'malic_acid',\n",
       " 'ash',\n",
       " 'alcalinity_of_ash',\n",
       " 'magnesium',\n",
       " 'total_phenols',\n",
       " 'flavanoids',\n",
       " 'nonflavanoid_phenols',\n",
       " 'proanthocyanins',\n",
       " 'color_intensity',\n",
       " 'hue',\n",
       " 'od280/od315_of_diluted_wines',\n",
       " 'proline']"
      ]
     },
     "execution_count": 10,
     "metadata": {},
     "output_type": "execute_result"
    }
   ],
   "source": [
    "wine.feature_names"
   ]
  },
  {
   "cell_type": "code",
   "execution_count": 12,
   "metadata": {},
   "outputs": [
    {
     "data": {
      "text/plain": [
       "array(['class_0', 'class_1', 'class_2'], dtype='<U7')"
      ]
     },
     "execution_count": 12,
     "metadata": {},
     "output_type": "execute_result"
    }
   ],
   "source": [
    "wine.target_names"
   ]
  },
  {
   "cell_type": "code",
   "execution_count": 13,
   "metadata": {},
   "outputs": [],
   "source": [
    "Xtrain,Xtest,Ytrain,Ytest = train_test_split(wine.data,wine.target,test_size=0.3)"
   ]
  },
  {
   "cell_type": "code",
   "execution_count": 51,
   "metadata": {},
   "outputs": [
    {
     "data": {
      "text/plain": [
       "0.9074074074074074"
      ]
     },
     "execution_count": 51,
     "metadata": {},
     "output_type": "execute_result"
    }
   ],
   "source": [
    "clf = tree.DecisionTreeClassifier(criterion=\"entropy\",\n",
    "                                  random_state=10,\n",
    "                                  splitter=\"random\")\n",
    "clf = clf.fit(Xtrain,Ytrain)\n",
    "score = clf.score(Xtest,Ytest)\n",
    "score"
   ]
  },
  {
   "cell_type": "markdown",
   "metadata": {},
   "source": [
    "## 可视化"
   ]
  },
  {
   "cell_type": "code",
   "execution_count": 52,
   "metadata": {},
   "outputs": [],
   "source": [
    "feature_name = ['酒精','苹果酸','灰','灰的碱性','镁','总酚','类黄酮','非黄烷类酚类','花青素','颜色强度','色调','od280/od315稀释葡萄酒','脯氨酸']"
   ]
  },
  {
   "cell_type": "code",
   "execution_count": 53,
   "metadata": {},
   "outputs": [
    {
     "data": {
      "image/svg+xml": [
       "<?xml version=\"1.0\" encoding=\"UTF-8\" standalone=\"no\"?>\r\n",
       "<!DOCTYPE svg PUBLIC \"-//W3C//DTD SVG 1.1//EN\"\r\n",
       " \"http://www.w3.org/Graphics/SVG/1.1/DTD/svg11.dtd\">\r\n",
       "<!-- Generated by graphviz version 2.38.0 (20140413.2041)\r\n",
       " -->\r\n",
       "<!-- Title: Tree Pages: 1 -->\r\n",
       "<svg width=\"950pt\" height=\"909pt\"\r\n",
       " viewBox=\"0.00 0.00 950.00 909.00\" xmlns=\"http://www.w3.org/2000/svg\" xmlns:xlink=\"http://www.w3.org/1999/xlink\">\r\n",
       "<g id=\"graph0\" class=\"graph\" transform=\"scale(1 1) rotate(0) translate(4 905)\">\r\n",
       "<title>Tree</title>\r\n",
       "<polygon fill=\"white\" stroke=\"none\" points=\"-4,4 -4,-905 946,-905 946,4 -4,4\"/>\r\n",
       "<!-- 0 -->\r\n",
       "<g id=\"node1\" class=\"node\"><title>0</title>\r\n",
       "<path fill=\"#e3fbed\" stroke=\"black\" d=\"M446,-901C446,-901 333,-901 333,-901 327,-901 321,-895 321,-889 321,-889 321,-830 321,-830 321,-824 327,-818 333,-818 333,-818 446,-818 446,-818 452,-818 458,-824 458,-830 458,-830 458,-889 458,-889 458,-895 452,-901 446,-901\"/>\r\n",
       "<text text-anchor=\"middle\" x=\"389.5\" y=\"-885.8\" font-family=\"Helvetica,sans-Serif\" font-size=\"14.00\">总酚 &lt;= 1.92</text>\r\n",
       "<text text-anchor=\"middle\" x=\"389.5\" y=\"-870.8\" font-family=\"Helvetica,sans-Serif\" font-size=\"14.00\">entropy = 1.564</text>\r\n",
       "<text text-anchor=\"middle\" x=\"389.5\" y=\"-855.8\" font-family=\"Helvetica,sans-Serif\" font-size=\"14.00\">samples = 124</text>\r\n",
       "<text text-anchor=\"middle\" x=\"389.5\" y=\"-840.8\" font-family=\"Helvetica,sans-Serif\" font-size=\"14.00\">value = [39, 51, 34]</text>\r\n",
       "<text text-anchor=\"middle\" x=\"389.5\" y=\"-825.8\" font-family=\"Helvetica,sans-Serif\" font-size=\"14.00\">class = 雪莉</text>\r\n",
       "</g>\r\n",
       "<!-- 1 -->\r\n",
       "<g id=\"node2\" class=\"node\"><title>1</title>\r\n",
       "<path fill=\"#c7a6f3\" stroke=\"black\" d=\"M343,-782C343,-782 238,-782 238,-782 232,-782 226,-776 226,-770 226,-770 226,-711 226,-711 226,-705 232,-699 238,-699 238,-699 343,-699 343,-699 349,-699 355,-705 355,-711 355,-711 355,-770 355,-770 355,-776 349,-782 343,-782\"/>\r\n",
       "<text text-anchor=\"middle\" x=\"290.5\" y=\"-766.8\" font-family=\"Helvetica,sans-Serif\" font-size=\"14.00\">类黄酮 &lt;= 0.933</text>\r\n",
       "<text text-anchor=\"middle\" x=\"290.5\" y=\"-751.8\" font-family=\"Helvetica,sans-Serif\" font-size=\"14.00\">entropy = 0.939</text>\r\n",
       "<text text-anchor=\"middle\" x=\"290.5\" y=\"-736.8\" font-family=\"Helvetica,sans-Serif\" font-size=\"14.00\">samples = 45</text>\r\n",
       "<text text-anchor=\"middle\" x=\"290.5\" y=\"-721.8\" font-family=\"Helvetica,sans-Serif\" font-size=\"14.00\">value = [0, 16, 29]</text>\r\n",
       "<text text-anchor=\"middle\" x=\"290.5\" y=\"-706.8\" font-family=\"Helvetica,sans-Serif\" font-size=\"14.00\">class = 贝尔摩德</text>\r\n",
       "</g>\r\n",
       "<!-- 0&#45;&gt;1 -->\r\n",
       "<g id=\"edge1\" class=\"edge\"><title>0&#45;&gt;1</title>\r\n",
       "<path fill=\"none\" stroke=\"black\" d=\"M355.152,-817.907C347.474,-808.832 339.256,-799.121 331.343,-789.769\"/>\r\n",
       "<polygon fill=\"black\" stroke=\"black\" points=\"333.918,-787.394 324.787,-782.021 328.574,-791.916 333.918,-787.394\"/>\r\n",
       "<text text-anchor=\"middle\" x=\"322.711\" y=\"-803.234\" font-family=\"Helvetica,sans-Serif\" font-size=\"14.00\">True</text>\r\n",
       "</g>\r\n",
       "<!-- 8 -->\r\n",
       "<g id=\"node9\" class=\"node\"><title>8</title>\r\n",
       "<path fill=\"#fdf4ed\" stroke=\"black\" d=\"M546.5,-782C546.5,-782 430.5,-782 430.5,-782 424.5,-782 418.5,-776 418.5,-770 418.5,-770 418.5,-711 418.5,-711 418.5,-705 424.5,-699 430.5,-699 430.5,-699 546.5,-699 546.5,-699 552.5,-699 558.5,-705 558.5,-711 558.5,-711 558.5,-770 558.5,-770 558.5,-776 552.5,-782 546.5,-782\"/>\r\n",
       "<text text-anchor=\"middle\" x=\"488.5\" y=\"-766.8\" font-family=\"Helvetica,sans-Serif\" font-size=\"14.00\">脯氨酸 &lt;= 1003.467</text>\r\n",
       "<text text-anchor=\"middle\" x=\"488.5\" y=\"-751.8\" font-family=\"Helvetica,sans-Serif\" font-size=\"14.00\">entropy = 1.275</text>\r\n",
       "<text text-anchor=\"middle\" x=\"488.5\" y=\"-736.8\" font-family=\"Helvetica,sans-Serif\" font-size=\"14.00\">samples = 79</text>\r\n",
       "<text text-anchor=\"middle\" x=\"488.5\" y=\"-721.8\" font-family=\"Helvetica,sans-Serif\" font-size=\"14.00\">value = [39, 35, 5]</text>\r\n",
       "<text text-anchor=\"middle\" x=\"488.5\" y=\"-706.8\" font-family=\"Helvetica,sans-Serif\" font-size=\"14.00\">class = 琴酒</text>\r\n",
       "</g>\r\n",
       "<!-- 0&#45;&gt;8 -->\r\n",
       "<g id=\"edge8\" class=\"edge\"><title>0&#45;&gt;8</title>\r\n",
       "<path fill=\"none\" stroke=\"black\" d=\"M423.848,-817.907C431.526,-808.832 439.744,-799.121 447.657,-789.769\"/>\r\n",
       "<polygon fill=\"black\" stroke=\"black\" points=\"450.426,-791.916 454.213,-782.021 445.082,-787.394 450.426,-791.916\"/>\r\n",
       "<text text-anchor=\"middle\" x=\"456.289\" y=\"-803.234\" font-family=\"Helvetica,sans-Serif\" font-size=\"14.00\">False</text>\r\n",
       "</g>\r\n",
       "<!-- 2 -->\r\n",
       "<g id=\"node3\" class=\"node\"><title>2</title>\r\n",
       "<path fill=\"#8139e5\" stroke=\"black\" d=\"M147,-655.5C147,-655.5 50,-655.5 50,-655.5 44,-655.5 38,-649.5 38,-643.5 38,-643.5 38,-599.5 38,-599.5 38,-593.5 44,-587.5 50,-587.5 50,-587.5 147,-587.5 147,-587.5 153,-587.5 159,-593.5 159,-599.5 159,-599.5 159,-643.5 159,-643.5 159,-649.5 153,-655.5 147,-655.5\"/>\r\n",
       "<text text-anchor=\"middle\" x=\"98.5\" y=\"-640.3\" font-family=\"Helvetica,sans-Serif\" font-size=\"14.00\">entropy = 0.0</text>\r\n",
       "<text text-anchor=\"middle\" x=\"98.5\" y=\"-625.3\" font-family=\"Helvetica,sans-Serif\" font-size=\"14.00\">samples = 25</text>\r\n",
       "<text text-anchor=\"middle\" x=\"98.5\" y=\"-610.3\" font-family=\"Helvetica,sans-Serif\" font-size=\"14.00\">value = [0, 0, 25]</text>\r\n",
       "<text text-anchor=\"middle\" x=\"98.5\" y=\"-595.3\" font-family=\"Helvetica,sans-Serif\" font-size=\"14.00\">class = 贝尔摩德</text>\r\n",
       "</g>\r\n",
       "<!-- 1&#45;&gt;2 -->\r\n",
       "<g id=\"edge2\" class=\"edge\"><title>1&#45;&gt;2</title>\r\n",
       "<path fill=\"none\" stroke=\"black\" d=\"M225.765,-700.052C204.999,-687.398 182.042,-673.408 161.408,-660.835\"/>\r\n",
       "<polygon fill=\"black\" stroke=\"black\" points=\"163.081,-657.756 152.721,-655.541 159.439,-663.733 163.081,-657.756\"/>\r\n",
       "</g>\r\n",
       "<!-- 3 -->\r\n",
       "<g id=\"node4\" class=\"node\"><title>3</title>\r\n",
       "<path fill=\"#6aeca0\" stroke=\"black\" d=\"M392,-663C392,-663 189,-663 189,-663 183,-663 177,-657 177,-651 177,-651 177,-592 177,-592 177,-586 183,-580 189,-580 189,-580 392,-580 392,-580 398,-580 404,-586 404,-592 404,-592 404,-651 404,-651 404,-657 398,-663 392,-663\"/>\r\n",
       "<text text-anchor=\"middle\" x=\"290.5\" y=\"-647.8\" font-family=\"Helvetica,sans-Serif\" font-size=\"14.00\">od280/od315稀释葡萄酒 &lt;= 2.042</text>\r\n",
       "<text text-anchor=\"middle\" x=\"290.5\" y=\"-632.8\" font-family=\"Helvetica,sans-Serif\" font-size=\"14.00\">entropy = 0.722</text>\r\n",
       "<text text-anchor=\"middle\" x=\"290.5\" y=\"-617.8\" font-family=\"Helvetica,sans-Serif\" font-size=\"14.00\">samples = 20</text>\r\n",
       "<text text-anchor=\"middle\" x=\"290.5\" y=\"-602.8\" font-family=\"Helvetica,sans-Serif\" font-size=\"14.00\">value = [0, 16, 4]</text>\r\n",
       "<text text-anchor=\"middle\" x=\"290.5\" y=\"-587.8\" font-family=\"Helvetica,sans-Serif\" font-size=\"14.00\">class = 雪莉</text>\r\n",
       "</g>\r\n",
       "<!-- 1&#45;&gt;3 -->\r\n",
       "<g id=\"edge3\" class=\"edge\"><title>1&#45;&gt;3</title>\r\n",
       "<path fill=\"none\" stroke=\"black\" d=\"M290.5,-698.907C290.5,-690.649 290.5,-681.864 290.5,-673.302\"/>\r\n",
       "<polygon fill=\"black\" stroke=\"black\" points=\"294,-673.021 290.5,-663.021 287,-673.021 294,-673.021\"/>\r\n",
       "</g>\r\n",
       "<!-- 4 -->\r\n",
       "<g id=\"node5\" class=\"node\"><title>4</title>\r\n",
       "<path fill=\"#a06aec\" stroke=\"black\" d=\"M213.5,-544C213.5,-544 121.5,-544 121.5,-544 115.5,-544 109.5,-538 109.5,-532 109.5,-532 109.5,-473 109.5,-473 109.5,-467 115.5,-461 121.5,-461 121.5,-461 213.5,-461 213.5,-461 219.5,-461 225.5,-467 225.5,-473 225.5,-473 225.5,-532 225.5,-532 225.5,-538 219.5,-544 213.5,-544\"/>\r\n",
       "<text text-anchor=\"middle\" x=\"167.5\" y=\"-528.8\" font-family=\"Helvetica,sans-Serif\" font-size=\"14.00\">镁 &lt;= 111.853</text>\r\n",
       "<text text-anchor=\"middle\" x=\"167.5\" y=\"-513.8\" font-family=\"Helvetica,sans-Serif\" font-size=\"14.00\">entropy = 0.722</text>\r\n",
       "<text text-anchor=\"middle\" x=\"167.5\" y=\"-498.8\" font-family=\"Helvetica,sans-Serif\" font-size=\"14.00\">samples = 5</text>\r\n",
       "<text text-anchor=\"middle\" x=\"167.5\" y=\"-483.8\" font-family=\"Helvetica,sans-Serif\" font-size=\"14.00\">value = [0, 1, 4]</text>\r\n",
       "<text text-anchor=\"middle\" x=\"167.5\" y=\"-468.8\" font-family=\"Helvetica,sans-Serif\" font-size=\"14.00\">class = 贝尔摩德</text>\r\n",
       "</g>\r\n",
       "<!-- 3&#45;&gt;4 -->\r\n",
       "<g id=\"edge4\" class=\"edge\"><title>3&#45;&gt;4</title>\r\n",
       "<path fill=\"none\" stroke=\"black\" d=\"M247.826,-579.907C237.999,-570.56 227.463,-560.538 217.361,-550.929\"/>\r\n",
       "<polygon fill=\"black\" stroke=\"black\" points=\"219.757,-548.377 210.099,-544.021 214.932,-553.449 219.757,-548.377\"/>\r\n",
       "</g>\r\n",
       "<!-- 7 -->\r\n",
       "<g id=\"node8\" class=\"node\"><title>7</title>\r\n",
       "<path fill=\"#39e581\" stroke=\"black\" d=\"M353,-536.5C353,-536.5 256,-536.5 256,-536.5 250,-536.5 244,-530.5 244,-524.5 244,-524.5 244,-480.5 244,-480.5 244,-474.5 250,-468.5 256,-468.5 256,-468.5 353,-468.5 353,-468.5 359,-468.5 365,-474.5 365,-480.5 365,-480.5 365,-524.5 365,-524.5 365,-530.5 359,-536.5 353,-536.5\"/>\r\n",
       "<text text-anchor=\"middle\" x=\"304.5\" y=\"-521.3\" font-family=\"Helvetica,sans-Serif\" font-size=\"14.00\">entropy = 0.0</text>\r\n",
       "<text text-anchor=\"middle\" x=\"304.5\" y=\"-506.3\" font-family=\"Helvetica,sans-Serif\" font-size=\"14.00\">samples = 15</text>\r\n",
       "<text text-anchor=\"middle\" x=\"304.5\" y=\"-491.3\" font-family=\"Helvetica,sans-Serif\" font-size=\"14.00\">value = [0, 15, 0]</text>\r\n",
       "<text text-anchor=\"middle\" x=\"304.5\" y=\"-476.3\" font-family=\"Helvetica,sans-Serif\" font-size=\"14.00\">class = 雪莉</text>\r\n",
       "</g>\r\n",
       "<!-- 3&#45;&gt;7 -->\r\n",
       "<g id=\"edge7\" class=\"edge\"><title>3&#45;&gt;7</title>\r\n",
       "<path fill=\"none\" stroke=\"black\" d=\"M295.357,-579.907C296.638,-569.204 298.025,-557.615 299.322,-546.776\"/>\r\n",
       "<polygon fill=\"black\" stroke=\"black\" points=\"302.818,-547.012 300.531,-536.667 295.868,-546.18 302.818,-547.012\"/>\r\n",
       "</g>\r\n",
       "<!-- 5 -->\r\n",
       "<g id=\"node6\" class=\"node\"><title>5</title>\r\n",
       "<path fill=\"#39e581\" stroke=\"black\" d=\"M101,-417.5C101,-417.5 12,-417.5 12,-417.5 6,-417.5 0,-411.5 0,-405.5 0,-405.5 0,-361.5 0,-361.5 0,-355.5 6,-349.5 12,-349.5 12,-349.5 101,-349.5 101,-349.5 107,-349.5 113,-355.5 113,-361.5 113,-361.5 113,-405.5 113,-405.5 113,-411.5 107,-417.5 101,-417.5\"/>\r\n",
       "<text text-anchor=\"middle\" x=\"56.5\" y=\"-402.3\" font-family=\"Helvetica,sans-Serif\" font-size=\"14.00\">entropy = 0.0</text>\r\n",
       "<text text-anchor=\"middle\" x=\"56.5\" y=\"-387.3\" font-family=\"Helvetica,sans-Serif\" font-size=\"14.00\">samples = 1</text>\r\n",
       "<text text-anchor=\"middle\" x=\"56.5\" y=\"-372.3\" font-family=\"Helvetica,sans-Serif\" font-size=\"14.00\">value = [0, 1, 0]</text>\r\n",
       "<text text-anchor=\"middle\" x=\"56.5\" y=\"-357.3\" font-family=\"Helvetica,sans-Serif\" font-size=\"14.00\">class = 雪莉</text>\r\n",
       "</g>\r\n",
       "<!-- 4&#45;&gt;5 -->\r\n",
       "<g id=\"edge5\" class=\"edge\"><title>4&#45;&gt;5</title>\r\n",
       "<path fill=\"none\" stroke=\"black\" d=\"M128.989,-460.907C117.997,-449.321 106.021,-436.698 95.0279,-425.111\"/>\r\n",
       "<polygon fill=\"black\" stroke=\"black\" points=\"97.3878,-422.513 87.9661,-417.667 92.3096,-427.331 97.3878,-422.513\"/>\r\n",
       "</g>\r\n",
       "<!-- 6 -->\r\n",
       "<g id=\"node7\" class=\"node\"><title>6</title>\r\n",
       "<path fill=\"#8139e5\" stroke=\"black\" d=\"M235.5,-417.5C235.5,-417.5 143.5,-417.5 143.5,-417.5 137.5,-417.5 131.5,-411.5 131.5,-405.5 131.5,-405.5 131.5,-361.5 131.5,-361.5 131.5,-355.5 137.5,-349.5 143.5,-349.5 143.5,-349.5 235.5,-349.5 235.5,-349.5 241.5,-349.5 247.5,-355.5 247.5,-361.5 247.5,-361.5 247.5,-405.5 247.5,-405.5 247.5,-411.5 241.5,-417.5 235.5,-417.5\"/>\r\n",
       "<text text-anchor=\"middle\" x=\"189.5\" y=\"-402.3\" font-family=\"Helvetica,sans-Serif\" font-size=\"14.00\">entropy = 0.0</text>\r\n",
       "<text text-anchor=\"middle\" x=\"189.5\" y=\"-387.3\" font-family=\"Helvetica,sans-Serif\" font-size=\"14.00\">samples = 4</text>\r\n",
       "<text text-anchor=\"middle\" x=\"189.5\" y=\"-372.3\" font-family=\"Helvetica,sans-Serif\" font-size=\"14.00\">value = [0, 0, 4]</text>\r\n",
       "<text text-anchor=\"middle\" x=\"189.5\" y=\"-357.3\" font-family=\"Helvetica,sans-Serif\" font-size=\"14.00\">class = 贝尔摩德</text>\r\n",
       "</g>\r\n",
       "<!-- 4&#45;&gt;6 -->\r\n",
       "<g id=\"edge6\" class=\"edge\"><title>4&#45;&gt;6</title>\r\n",
       "<path fill=\"none\" stroke=\"black\" d=\"M175.133,-460.907C177.145,-450.204 179.324,-438.615 181.363,-427.776\"/>\r\n",
       "<polygon fill=\"black\" stroke=\"black\" points=\"184.855,-428.142 183.263,-417.667 177.976,-426.848 184.855,-428.142\"/>\r\n",
       "</g>\r\n",
       "<!-- 9 -->\r\n",
       "<g id=\"node10\" class=\"node\"><title>9</title>\r\n",
       "<path fill=\"#83efb0\" stroke=\"black\" d=\"M542.5,-663C542.5,-663 434.5,-663 434.5,-663 428.5,-663 422.5,-657 422.5,-651 422.5,-651 422.5,-592 422.5,-592 422.5,-586 428.5,-580 434.5,-580 434.5,-580 542.5,-580 542.5,-580 548.5,-580 554.5,-586 554.5,-592 554.5,-592 554.5,-651 554.5,-651 554.5,-657 548.5,-663 542.5,-663\"/>\r\n",
       "<text text-anchor=\"middle\" x=\"488.5\" y=\"-647.8\" font-family=\"Helvetica,sans-Serif\" font-size=\"14.00\">脯氨酸 &lt;= 714.603</text>\r\n",
       "<text text-anchor=\"middle\" x=\"488.5\" y=\"-632.8\" font-family=\"Helvetica,sans-Serif\" font-size=\"14.00\">entropy = 1.157</text>\r\n",
       "<text text-anchor=\"middle\" x=\"488.5\" y=\"-617.8\" font-family=\"Helvetica,sans-Serif\" font-size=\"14.00\">samples = 50</text>\r\n",
       "<text text-anchor=\"middle\" x=\"488.5\" y=\"-602.8\" font-family=\"Helvetica,sans-Serif\" font-size=\"14.00\">value = [10, 35, 5]</text>\r\n",
       "<text text-anchor=\"middle\" x=\"488.5\" y=\"-587.8\" font-family=\"Helvetica,sans-Serif\" font-size=\"14.00\">class = 雪莉</text>\r\n",
       "</g>\r\n",
       "<!-- 8&#45;&gt;9 -->\r\n",
       "<g id=\"edge9\" class=\"edge\"><title>8&#45;&gt;9</title>\r\n",
       "<path fill=\"none\" stroke=\"black\" d=\"M488.5,-698.907C488.5,-690.649 488.5,-681.864 488.5,-673.302\"/>\r\n",
       "<polygon fill=\"black\" stroke=\"black\" points=\"492,-673.021 488.5,-663.021 485,-673.021 492,-673.021\"/>\r\n",
       "</g>\r\n",
       "<!-- 26 -->\r\n",
       "<g id=\"node27\" class=\"node\"><title>26</title>\r\n",
       "<path fill=\"#e58139\" stroke=\"black\" d=\"M682,-655.5C682,-655.5 585,-655.5 585,-655.5 579,-655.5 573,-649.5 573,-643.5 573,-643.5 573,-599.5 573,-599.5 573,-593.5 579,-587.5 585,-587.5 585,-587.5 682,-587.5 682,-587.5 688,-587.5 694,-593.5 694,-599.5 694,-599.5 694,-643.5 694,-643.5 694,-649.5 688,-655.5 682,-655.5\"/>\r\n",
       "<text text-anchor=\"middle\" x=\"633.5\" y=\"-640.3\" font-family=\"Helvetica,sans-Serif\" font-size=\"14.00\">entropy = 0.0</text>\r\n",
       "<text text-anchor=\"middle\" x=\"633.5\" y=\"-625.3\" font-family=\"Helvetica,sans-Serif\" font-size=\"14.00\">samples = 29</text>\r\n",
       "<text text-anchor=\"middle\" x=\"633.5\" y=\"-610.3\" font-family=\"Helvetica,sans-Serif\" font-size=\"14.00\">value = [29, 0, 0]</text>\r\n",
       "<text text-anchor=\"middle\" x=\"633.5\" y=\"-595.3\" font-family=\"Helvetica,sans-Serif\" font-size=\"14.00\">class = 琴酒</text>\r\n",
       "</g>\r\n",
       "<!-- 8&#45;&gt;26 -->\r\n",
       "<g id=\"edge26\" class=\"edge\"><title>8&#45;&gt;26</title>\r\n",
       "<path fill=\"none\" stroke=\"black\" d=\"M538.807,-698.907C553.576,-686.99 569.705,-673.976 584.398,-662.12\"/>\r\n",
       "<polygon fill=\"black\" stroke=\"black\" points=\"586.811,-664.67 592.396,-655.667 582.415,-659.223 586.811,-664.67\"/>\r\n",
       "</g>\r\n",
       "<!-- 10 -->\r\n",
       "<g id=\"node11\" class=\"node\"><title>10</title>\r\n",
       "<path fill=\"#5cea97\" stroke=\"black\" d=\"M526.5,-544C526.5,-544 422.5,-544 422.5,-544 416.5,-544 410.5,-538 410.5,-532 410.5,-532 410.5,-473 410.5,-473 410.5,-467 416.5,-461 422.5,-461 422.5,-461 526.5,-461 526.5,-461 532.5,-461 538.5,-467 538.5,-473 538.5,-473 538.5,-532 538.5,-532 538.5,-538 532.5,-544 526.5,-544\"/>\r\n",
       "<text text-anchor=\"middle\" x=\"474.5\" y=\"-528.8\" font-family=\"Helvetica,sans-Serif\" font-size=\"14.00\">颜色强度 &lt;= 5.439</text>\r\n",
       "<text text-anchor=\"middle\" x=\"474.5\" y=\"-513.8\" font-family=\"Helvetica,sans-Serif\" font-size=\"14.00\">entropy = 0.719</text>\r\n",
       "<text text-anchor=\"middle\" x=\"474.5\" y=\"-498.8\" font-family=\"Helvetica,sans-Serif\" font-size=\"14.00\">samples = 39</text>\r\n",
       "<text text-anchor=\"middle\" x=\"474.5\" y=\"-483.8\" font-family=\"Helvetica,sans-Serif\" font-size=\"14.00\">value = [1, 33, 5]</text>\r\n",
       "<text text-anchor=\"middle\" x=\"474.5\" y=\"-468.8\" font-family=\"Helvetica,sans-Serif\" font-size=\"14.00\">class = 雪莉</text>\r\n",
       "</g>\r\n",
       "<!-- 9&#45;&gt;10 -->\r\n",
       "<g id=\"edge10\" class=\"edge\"><title>9&#45;&gt;10</title>\r\n",
       "<path fill=\"none\" stroke=\"black\" d=\"M483.643,-579.907C482.644,-571.558 481.58,-562.671 480.545,-554.02\"/>\r\n",
       "<polygon fill=\"black\" stroke=\"black\" points=\"484.012,-553.534 479.349,-544.021 477.062,-554.366 484.012,-553.534\"/>\r\n",
       "</g>\r\n",
       "<!-- 21 -->\r\n",
       "<g id=\"node22\" class=\"node\"><title>21</title>\r\n",
       "<path fill=\"#eb9d65\" stroke=\"black\" d=\"M672.5,-544C672.5,-544 568.5,-544 568.5,-544 562.5,-544 556.5,-538 556.5,-532 556.5,-532 556.5,-473 556.5,-473 556.5,-467 562.5,-461 568.5,-461 568.5,-461 672.5,-461 672.5,-461 678.5,-461 684.5,-467 684.5,-473 684.5,-473 684.5,-532 684.5,-532 684.5,-538 678.5,-544 672.5,-544\"/>\r\n",
       "<text text-anchor=\"middle\" x=\"620.5\" y=\"-528.8\" font-family=\"Helvetica,sans-Serif\" font-size=\"14.00\">颜色强度 &lt;= 2.706</text>\r\n",
       "<text text-anchor=\"middle\" x=\"620.5\" y=\"-513.8\" font-family=\"Helvetica,sans-Serif\" font-size=\"14.00\">entropy = 0.684</text>\r\n",
       "<text text-anchor=\"middle\" x=\"620.5\" y=\"-498.8\" font-family=\"Helvetica,sans-Serif\" font-size=\"14.00\">samples = 11</text>\r\n",
       "<text text-anchor=\"middle\" x=\"620.5\" y=\"-483.8\" font-family=\"Helvetica,sans-Serif\" font-size=\"14.00\">value = [9, 2, 0]</text>\r\n",
       "<text text-anchor=\"middle\" x=\"620.5\" y=\"-468.8\" font-family=\"Helvetica,sans-Serif\" font-size=\"14.00\">class = 琴酒</text>\r\n",
       "</g>\r\n",
       "<!-- 9&#45;&gt;21 -->\r\n",
       "<g id=\"edge21\" class=\"edge\"><title>9&#45;&gt;21</title>\r\n",
       "<path fill=\"none\" stroke=\"black\" d=\"M534.297,-579.907C544.842,-570.56 556.15,-560.538 566.991,-550.929\"/>\r\n",
       "<polygon fill=\"black\" stroke=\"black\" points=\"569.622,-553.273 574.784,-544.021 564.979,-548.035 569.622,-553.273\"/>\r\n",
       "</g>\r\n",
       "<!-- 11 -->\r\n",
       "<g id=\"node12\" class=\"node\"><title>11</title>\r\n",
       "<path fill=\"#45e789\" stroke=\"black\" d=\"M376,-425C376,-425 279,-425 279,-425 273,-425 267,-419 267,-413 267,-413 267,-354 267,-354 267,-348 273,-342 279,-342 279,-342 376,-342 376,-342 382,-342 388,-348 388,-354 388,-354 388,-413 388,-413 388,-419 382,-425 376,-425\"/>\r\n",
       "<text text-anchor=\"middle\" x=\"327.5\" y=\"-409.8\" font-family=\"Helvetica,sans-Serif\" font-size=\"14.00\">酒精 &lt;= 12.8</text>\r\n",
       "<text text-anchor=\"middle\" x=\"327.5\" y=\"-394.8\" font-family=\"Helvetica,sans-Serif\" font-size=\"14.00\">entropy = 0.39</text>\r\n",
       "<text text-anchor=\"middle\" x=\"327.5\" y=\"-379.8\" font-family=\"Helvetica,sans-Serif\" font-size=\"14.00\">samples = 33</text>\r\n",
       "<text text-anchor=\"middle\" x=\"327.5\" y=\"-364.8\" font-family=\"Helvetica,sans-Serif\" font-size=\"14.00\">value = [1, 31, 1]</text>\r\n",
       "<text text-anchor=\"middle\" x=\"327.5\" y=\"-349.8\" font-family=\"Helvetica,sans-Serif\" font-size=\"14.00\">class = 雪莉</text>\r\n",
       "</g>\r\n",
       "<!-- 10&#45;&gt;11 -->\r\n",
       "<g id=\"edge11\" class=\"edge\"><title>10&#45;&gt;11</title>\r\n",
       "<path fill=\"none\" stroke=\"black\" d=\"M423.499,-460.907C411.527,-451.379 398.673,-441.148 386.387,-431.37\"/>\r\n",
       "<polygon fill=\"black\" stroke=\"black\" points=\"388.415,-428.51 378.411,-425.021 384.055,-433.987 388.415,-428.51\"/>\r\n",
       "</g>\r\n",
       "<!-- 18 -->\r\n",
       "<g id=\"node19\" class=\"node\"><title>18</title>\r\n",
       "<path fill=\"#c09cf2\" stroke=\"black\" d=\"M526.5,-425C526.5,-425 434.5,-425 434.5,-425 428.5,-425 422.5,-419 422.5,-413 422.5,-413 422.5,-354 422.5,-354 422.5,-348 428.5,-342 434.5,-342 434.5,-342 526.5,-342 526.5,-342 532.5,-342 538.5,-348 538.5,-354 538.5,-354 538.5,-413 538.5,-413 538.5,-419 532.5,-425 526.5,-425\"/>\r\n",
       "<text text-anchor=\"middle\" x=\"480.5\" y=\"-409.8\" font-family=\"Helvetica,sans-Serif\" font-size=\"14.00\">色调 &lt;= 0.912</text>\r\n",
       "<text text-anchor=\"middle\" x=\"480.5\" y=\"-394.8\" font-family=\"Helvetica,sans-Serif\" font-size=\"14.00\">entropy = 0.918</text>\r\n",
       "<text text-anchor=\"middle\" x=\"480.5\" y=\"-379.8\" font-family=\"Helvetica,sans-Serif\" font-size=\"14.00\">samples = 6</text>\r\n",
       "<text text-anchor=\"middle\" x=\"480.5\" y=\"-364.8\" font-family=\"Helvetica,sans-Serif\" font-size=\"14.00\">value = [0, 2, 4]</text>\r\n",
       "<text text-anchor=\"middle\" x=\"480.5\" y=\"-349.8\" font-family=\"Helvetica,sans-Serif\" font-size=\"14.00\">class = 贝尔摩德</text>\r\n",
       "</g>\r\n",
       "<!-- 10&#45;&gt;18 -->\r\n",
       "<g id=\"edge18\" class=\"edge\"><title>10&#45;&gt;18</title>\r\n",
       "<path fill=\"none\" stroke=\"black\" d=\"M476.582,-460.907C477.01,-452.558 477.466,-443.671 477.909,-435.02\"/>\r\n",
       "<polygon fill=\"black\" stroke=\"black\" points=\"481.405,-435.187 478.422,-425.021 474.414,-434.828 481.405,-435.187\"/>\r\n",
       "</g>\r\n",
       "<!-- 12 -->\r\n",
       "<g id=\"node13\" class=\"node\"><title>12</title>\r\n",
       "<path fill=\"#39e581\" stroke=\"black\" d=\"M220,-298.5C220,-298.5 123,-298.5 123,-298.5 117,-298.5 111,-292.5 111,-286.5 111,-286.5 111,-242.5 111,-242.5 111,-236.5 117,-230.5 123,-230.5 123,-230.5 220,-230.5 220,-230.5 226,-230.5 232,-236.5 232,-242.5 232,-242.5 232,-286.5 232,-286.5 232,-292.5 226,-298.5 220,-298.5\"/>\r\n",
       "<text text-anchor=\"middle\" x=\"171.5\" y=\"-283.3\" font-family=\"Helvetica,sans-Serif\" font-size=\"14.00\">entropy = 0.0</text>\r\n",
       "<text text-anchor=\"middle\" x=\"171.5\" y=\"-268.3\" font-family=\"Helvetica,sans-Serif\" font-size=\"14.00\">samples = 27</text>\r\n",
       "<text text-anchor=\"middle\" x=\"171.5\" y=\"-253.3\" font-family=\"Helvetica,sans-Serif\" font-size=\"14.00\">value = [0, 27, 0]</text>\r\n",
       "<text text-anchor=\"middle\" x=\"171.5\" y=\"-238.3\" font-family=\"Helvetica,sans-Serif\" font-size=\"14.00\">class = 雪莉</text>\r\n",
       "</g>\r\n",
       "<!-- 11&#45;&gt;12 -->\r\n",
       "<g id=\"edge12\" class=\"edge\"><title>11&#45;&gt;12</title>\r\n",
       "<path fill=\"none\" stroke=\"black\" d=\"M273.377,-341.907C257.34,-329.88 239.813,-316.735 223.888,-304.791\"/>\r\n",
       "<polygon fill=\"black\" stroke=\"black\" points=\"225.823,-301.867 215.723,-298.667 221.623,-307.467 225.823,-301.867\"/>\r\n",
       "</g>\r\n",
       "<!-- 13 -->\r\n",
       "<g id=\"node14\" class=\"node\"><title>13</title>\r\n",
       "<path fill=\"#88efb3\" stroke=\"black\" d=\"M392.5,-306C392.5,-306 262.5,-306 262.5,-306 256.5,-306 250.5,-300 250.5,-294 250.5,-294 250.5,-235 250.5,-235 250.5,-229 256.5,-223 262.5,-223 262.5,-223 392.5,-223 392.5,-223 398.5,-223 404.5,-229 404.5,-235 404.5,-235 404.5,-294 404.5,-294 404.5,-300 398.5,-306 392.5,-306\"/>\r\n",
       "<text text-anchor=\"middle\" x=\"327.5\" y=\"-290.8\" font-family=\"Helvetica,sans-Serif\" font-size=\"14.00\">非黄烷类酚类 &lt;= 0.368</text>\r\n",
       "<text text-anchor=\"middle\" x=\"327.5\" y=\"-275.8\" font-family=\"Helvetica,sans-Serif\" font-size=\"14.00\">entropy = 1.252</text>\r\n",
       "<text text-anchor=\"middle\" x=\"327.5\" y=\"-260.8\" font-family=\"Helvetica,sans-Serif\" font-size=\"14.00\">samples = 6</text>\r\n",
       "<text text-anchor=\"middle\" x=\"327.5\" y=\"-245.8\" font-family=\"Helvetica,sans-Serif\" font-size=\"14.00\">value = [1, 4, 1]</text>\r\n",
       "<text text-anchor=\"middle\" x=\"327.5\" y=\"-230.8\" font-family=\"Helvetica,sans-Serif\" font-size=\"14.00\">class = 雪莉</text>\r\n",
       "</g>\r\n",
       "<!-- 11&#45;&gt;13 -->\r\n",
       "<g id=\"edge13\" class=\"edge\"><title>11&#45;&gt;13</title>\r\n",
       "<path fill=\"none\" stroke=\"black\" d=\"M327.5,-341.907C327.5,-333.649 327.5,-324.864 327.5,-316.302\"/>\r\n",
       "<polygon fill=\"black\" stroke=\"black\" points=\"331,-316.021 327.5,-306.021 324,-316.021 331,-316.021\"/>\r\n",
       "</g>\r\n",
       "<!-- 14 -->\r\n",
       "<g id=\"node15\" class=\"node\"><title>14</title>\r\n",
       "<path fill=\"#6aeca0\" stroke=\"black\" d=\"M306.5,-187C306.5,-187 214.5,-187 214.5,-187 208.5,-187 202.5,-181 202.5,-175 202.5,-175 202.5,-116 202.5,-116 202.5,-110 208.5,-104 214.5,-104 214.5,-104 306.5,-104 306.5,-104 312.5,-104 318.5,-110 318.5,-116 318.5,-116 318.5,-175 318.5,-175 318.5,-181 312.5,-187 306.5,-187\"/>\r\n",
       "<text text-anchor=\"middle\" x=\"260.5\" y=\"-171.8\" font-family=\"Helvetica,sans-Serif\" font-size=\"14.00\">镁 &lt;= 101.663</text>\r\n",
       "<text text-anchor=\"middle\" x=\"260.5\" y=\"-156.8\" font-family=\"Helvetica,sans-Serif\" font-size=\"14.00\">entropy = 0.722</text>\r\n",
       "<text text-anchor=\"middle\" x=\"260.5\" y=\"-141.8\" font-family=\"Helvetica,sans-Serif\" font-size=\"14.00\">samples = 5</text>\r\n",
       "<text text-anchor=\"middle\" x=\"260.5\" y=\"-126.8\" font-family=\"Helvetica,sans-Serif\" font-size=\"14.00\">value = [1, 4, 0]</text>\r\n",
       "<text text-anchor=\"middle\" x=\"260.5\" y=\"-111.8\" font-family=\"Helvetica,sans-Serif\" font-size=\"14.00\">class = 雪莉</text>\r\n",
       "</g>\r\n",
       "<!-- 13&#45;&gt;14 -->\r\n",
       "<g id=\"edge14\" class=\"edge\"><title>13&#45;&gt;14</title>\r\n",
       "<path fill=\"none\" stroke=\"black\" d=\"M304.255,-222.907C299.266,-214.195 293.941,-204.897 288.785,-195.893\"/>\r\n",
       "<polygon fill=\"black\" stroke=\"black\" points=\"291.711,-193.959 283.704,-187.021 285.636,-197.438 291.711,-193.959\"/>\r\n",
       "</g>\r\n",
       "<!-- 17 -->\r\n",
       "<g id=\"node18\" class=\"node\"><title>17</title>\r\n",
       "<path fill=\"#8139e5\" stroke=\"black\" d=\"M440.5,-179.5C440.5,-179.5 348.5,-179.5 348.5,-179.5 342.5,-179.5 336.5,-173.5 336.5,-167.5 336.5,-167.5 336.5,-123.5 336.5,-123.5 336.5,-117.5 342.5,-111.5 348.5,-111.5 348.5,-111.5 440.5,-111.5 440.5,-111.5 446.5,-111.5 452.5,-117.5 452.5,-123.5 452.5,-123.5 452.5,-167.5 452.5,-167.5 452.5,-173.5 446.5,-179.5 440.5,-179.5\"/>\r\n",
       "<text text-anchor=\"middle\" x=\"394.5\" y=\"-164.3\" font-family=\"Helvetica,sans-Serif\" font-size=\"14.00\">entropy = 0.0</text>\r\n",
       "<text text-anchor=\"middle\" x=\"394.5\" y=\"-149.3\" font-family=\"Helvetica,sans-Serif\" font-size=\"14.00\">samples = 1</text>\r\n",
       "<text text-anchor=\"middle\" x=\"394.5\" y=\"-134.3\" font-family=\"Helvetica,sans-Serif\" font-size=\"14.00\">value = [0, 0, 1]</text>\r\n",
       "<text text-anchor=\"middle\" x=\"394.5\" y=\"-119.3\" font-family=\"Helvetica,sans-Serif\" font-size=\"14.00\">class = 贝尔摩德</text>\r\n",
       "</g>\r\n",
       "<!-- 13&#45;&gt;17 -->\r\n",
       "<g id=\"edge17\" class=\"edge\"><title>13&#45;&gt;17</title>\r\n",
       "<path fill=\"none\" stroke=\"black\" d=\"M350.745,-222.907C357.127,-211.763 364.059,-199.658 370.484,-188.439\"/>\r\n",
       "<polygon fill=\"black\" stroke=\"black\" points=\"373.575,-190.084 375.507,-179.667 367.5,-186.606 373.575,-190.084\"/>\r\n",
       "</g>\r\n",
       "<!-- 15 -->\r\n",
       "<g id=\"node16\" class=\"node\"><title>15</title>\r\n",
       "<path fill=\"#39e581\" stroke=\"black\" d=\"M240,-68C240,-68 151,-68 151,-68 145,-68 139,-62 139,-56 139,-56 139,-12 139,-12 139,-6 145,-0 151,-0 151,-0 240,-0 240,-0 246,-0 252,-6 252,-12 252,-12 252,-56 252,-56 252,-62 246,-68 240,-68\"/>\r\n",
       "<text text-anchor=\"middle\" x=\"195.5\" y=\"-52.8\" font-family=\"Helvetica,sans-Serif\" font-size=\"14.00\">entropy = 0.0</text>\r\n",
       "<text text-anchor=\"middle\" x=\"195.5\" y=\"-37.8\" font-family=\"Helvetica,sans-Serif\" font-size=\"14.00\">samples = 4</text>\r\n",
       "<text text-anchor=\"middle\" x=\"195.5\" y=\"-22.8\" font-family=\"Helvetica,sans-Serif\" font-size=\"14.00\">value = [0, 4, 0]</text>\r\n",
       "<text text-anchor=\"middle\" x=\"195.5\" y=\"-7.8\" font-family=\"Helvetica,sans-Serif\" font-size=\"14.00\">class = 雪莉</text>\r\n",
       "</g>\r\n",
       "<!-- 14&#45;&gt;15 -->\r\n",
       "<g id=\"edge15\" class=\"edge\"><title>14&#45;&gt;15</title>\r\n",
       "<path fill=\"none\" stroke=\"black\" d=\"M236.296,-103.726C231.099,-94.9703 225.598,-85.7032 220.375,-76.9051\"/>\r\n",
       "<polygon fill=\"black\" stroke=\"black\" points=\"223.381,-75.1121 215.267,-68.2996 217.362,-78.6853 223.381,-75.1121\"/>\r\n",
       "</g>\r\n",
       "<!-- 16 -->\r\n",
       "<g id=\"node17\" class=\"node\"><title>16</title>\r\n",
       "<path fill=\"#e58139\" stroke=\"black\" d=\"M371,-68C371,-68 282,-68 282,-68 276,-68 270,-62 270,-56 270,-56 270,-12 270,-12 270,-6 276,-0 282,-0 282,-0 371,-0 371,-0 377,-0 383,-6 383,-12 383,-12 383,-56 383,-56 383,-62 377,-68 371,-68\"/>\r\n",
       "<text text-anchor=\"middle\" x=\"326.5\" y=\"-52.8\" font-family=\"Helvetica,sans-Serif\" font-size=\"14.00\">entropy = 0.0</text>\r\n",
       "<text text-anchor=\"middle\" x=\"326.5\" y=\"-37.8\" font-family=\"Helvetica,sans-Serif\" font-size=\"14.00\">samples = 1</text>\r\n",
       "<text text-anchor=\"middle\" x=\"326.5\" y=\"-22.8\" font-family=\"Helvetica,sans-Serif\" font-size=\"14.00\">value = [1, 0, 0]</text>\r\n",
       "<text text-anchor=\"middle\" x=\"326.5\" y=\"-7.8\" font-family=\"Helvetica,sans-Serif\" font-size=\"14.00\">class = 琴酒</text>\r\n",
       "</g>\r\n",
       "<!-- 14&#45;&gt;16 -->\r\n",
       "<g id=\"edge16\" class=\"edge\"><title>14&#45;&gt;16</title>\r\n",
       "<path fill=\"none\" stroke=\"black\" d=\"M285.076,-103.726C290.354,-94.9703 295.939,-85.7032 301.242,-76.9051\"/>\r\n",
       "<polygon fill=\"black\" stroke=\"black\" points=\"304.264,-78.671 306.429,-68.2996 298.269,-75.0574 304.264,-78.671\"/>\r\n",
       "</g>\r\n",
       "<!-- 19 -->\r\n",
       "<g id=\"node20\" class=\"node\"><title>19</title>\r\n",
       "<path fill=\"#8139e5\" stroke=\"black\" d=\"M526.5,-298.5C526.5,-298.5 434.5,-298.5 434.5,-298.5 428.5,-298.5 422.5,-292.5 422.5,-286.5 422.5,-286.5 422.5,-242.5 422.5,-242.5 422.5,-236.5 428.5,-230.5 434.5,-230.5 434.5,-230.5 526.5,-230.5 526.5,-230.5 532.5,-230.5 538.5,-236.5 538.5,-242.5 538.5,-242.5 538.5,-286.5 538.5,-286.5 538.5,-292.5 532.5,-298.5 526.5,-298.5\"/>\r\n",
       "<text text-anchor=\"middle\" x=\"480.5\" y=\"-283.3\" font-family=\"Helvetica,sans-Serif\" font-size=\"14.00\">entropy = 0.0</text>\r\n",
       "<text text-anchor=\"middle\" x=\"480.5\" y=\"-268.3\" font-family=\"Helvetica,sans-Serif\" font-size=\"14.00\">samples = 4</text>\r\n",
       "<text text-anchor=\"middle\" x=\"480.5\" y=\"-253.3\" font-family=\"Helvetica,sans-Serif\" font-size=\"14.00\">value = [0, 0, 4]</text>\r\n",
       "<text text-anchor=\"middle\" x=\"480.5\" y=\"-238.3\" font-family=\"Helvetica,sans-Serif\" font-size=\"14.00\">class = 贝尔摩德</text>\r\n",
       "</g>\r\n",
       "<!-- 18&#45;&gt;19 -->\r\n",
       "<g id=\"edge19\" class=\"edge\"><title>18&#45;&gt;19</title>\r\n",
       "<path fill=\"none\" stroke=\"black\" d=\"M480.5,-341.907C480.5,-331.204 480.5,-319.615 480.5,-308.776\"/>\r\n",
       "<polygon fill=\"black\" stroke=\"black\" points=\"484,-308.667 480.5,-298.667 477,-308.667 484,-308.667\"/>\r\n",
       "</g>\r\n",
       "<!-- 20 -->\r\n",
       "<g id=\"node21\" class=\"node\"><title>20</title>\r\n",
       "<path fill=\"#39e581\" stroke=\"black\" d=\"M658,-298.5C658,-298.5 569,-298.5 569,-298.5 563,-298.5 557,-292.5 557,-286.5 557,-286.5 557,-242.5 557,-242.5 557,-236.5 563,-230.5 569,-230.5 569,-230.5 658,-230.5 658,-230.5 664,-230.5 670,-236.5 670,-242.5 670,-242.5 670,-286.5 670,-286.5 670,-292.5 664,-298.5 658,-298.5\"/>\r\n",
       "<text text-anchor=\"middle\" x=\"613.5\" y=\"-283.3\" font-family=\"Helvetica,sans-Serif\" font-size=\"14.00\">entropy = 0.0</text>\r\n",
       "<text text-anchor=\"middle\" x=\"613.5\" y=\"-268.3\" font-family=\"Helvetica,sans-Serif\" font-size=\"14.00\">samples = 2</text>\r\n",
       "<text text-anchor=\"middle\" x=\"613.5\" y=\"-253.3\" font-family=\"Helvetica,sans-Serif\" font-size=\"14.00\">value = [0, 2, 0]</text>\r\n",
       "<text text-anchor=\"middle\" x=\"613.5\" y=\"-238.3\" font-family=\"Helvetica,sans-Serif\" font-size=\"14.00\">class = 雪莉</text>\r\n",
       "</g>\r\n",
       "<!-- 18&#45;&gt;20 -->\r\n",
       "<g id=\"edge20\" class=\"edge\"><title>18&#45;&gt;20</title>\r\n",
       "<path fill=\"none\" stroke=\"black\" d=\"M526.644,-341.907C540.065,-330.101 554.711,-317.217 568.087,-305.45\"/>\r\n",
       "<polygon fill=\"black\" stroke=\"black\" points=\"570.601,-307.9 575.797,-298.667 565.977,-302.644 570.601,-307.9\"/>\r\n",
       "</g>\r\n",
       "<!-- 22 -->\r\n",
       "<g id=\"node23\" class=\"node\"><title>22</title>\r\n",
       "<path fill=\"#39e581\" stroke=\"black\" d=\"M659,-417.5C659,-417.5 570,-417.5 570,-417.5 564,-417.5 558,-411.5 558,-405.5 558,-405.5 558,-361.5 558,-361.5 558,-355.5 564,-349.5 570,-349.5 570,-349.5 659,-349.5 659,-349.5 665,-349.5 671,-355.5 671,-361.5 671,-361.5 671,-405.5 671,-405.5 671,-411.5 665,-417.5 659,-417.5\"/>\r\n",
       "<text text-anchor=\"middle\" x=\"614.5\" y=\"-402.3\" font-family=\"Helvetica,sans-Serif\" font-size=\"14.00\">entropy = 0.0</text>\r\n",
       "<text text-anchor=\"middle\" x=\"614.5\" y=\"-387.3\" font-family=\"Helvetica,sans-Serif\" font-size=\"14.00\">samples = 1</text>\r\n",
       "<text text-anchor=\"middle\" x=\"614.5\" y=\"-372.3\" font-family=\"Helvetica,sans-Serif\" font-size=\"14.00\">value = [0, 1, 0]</text>\r\n",
       "<text text-anchor=\"middle\" x=\"614.5\" y=\"-357.3\" font-family=\"Helvetica,sans-Serif\" font-size=\"14.00\">class = 雪莉</text>\r\n",
       "</g>\r\n",
       "<!-- 21&#45;&gt;22 -->\r\n",
       "<g id=\"edge22\" class=\"edge\"><title>21&#45;&gt;22</title>\r\n",
       "<path fill=\"none\" stroke=\"black\" d=\"M618.418,-460.907C617.869,-450.204 617.275,-438.615 616.719,-427.776\"/>\r\n",
       "<polygon fill=\"black\" stroke=\"black\" points=\"620.209,-427.475 616.201,-417.667 613.218,-427.833 620.209,-427.475\"/>\r\n",
       "</g>\r\n",
       "<!-- 23 -->\r\n",
       "<g id=\"node24\" class=\"node\"><title>23</title>\r\n",
       "<path fill=\"#e88f4f\" stroke=\"black\" d=\"M831.5,-425C831.5,-425 701.5,-425 701.5,-425 695.5,-425 689.5,-419 689.5,-413 689.5,-413 689.5,-354 689.5,-354 689.5,-348 695.5,-342 701.5,-342 701.5,-342 831.5,-342 831.5,-342 837.5,-342 843.5,-348 843.5,-354 843.5,-354 843.5,-413 843.5,-413 843.5,-419 837.5,-425 831.5,-425\"/>\r\n",
       "<text text-anchor=\"middle\" x=\"766.5\" y=\"-409.8\" font-family=\"Helvetica,sans-Serif\" font-size=\"14.00\">非黄烷类酚类 &lt;= 0.155</text>\r\n",
       "<text text-anchor=\"middle\" x=\"766.5\" y=\"-394.8\" font-family=\"Helvetica,sans-Serif\" font-size=\"14.00\">entropy = 0.469</text>\r\n",
       "<text text-anchor=\"middle\" x=\"766.5\" y=\"-379.8\" font-family=\"Helvetica,sans-Serif\" font-size=\"14.00\">samples = 10</text>\r\n",
       "<text text-anchor=\"middle\" x=\"766.5\" y=\"-364.8\" font-family=\"Helvetica,sans-Serif\" font-size=\"14.00\">value = [9, 1, 0]</text>\r\n",
       "<text text-anchor=\"middle\" x=\"766.5\" y=\"-349.8\" font-family=\"Helvetica,sans-Serif\" font-size=\"14.00\">class = 琴酒</text>\r\n",
       "</g>\r\n",
       "<!-- 21&#45;&gt;23 -->\r\n",
       "<g id=\"edge23\" class=\"edge\"><title>21&#45;&gt;23</title>\r\n",
       "<path fill=\"none\" stroke=\"black\" d=\"M671.154,-460.907C683.045,-451.379 695.811,-441.148 708.013,-431.37\"/>\r\n",
       "<polygon fill=\"black\" stroke=\"black\" points=\"710.321,-434.006 715.936,-425.021 705.943,-428.543 710.321,-434.006\"/>\r\n",
       "</g>\r\n",
       "<!-- 24 -->\r\n",
       "<g id=\"node25\" class=\"node\"><title>24</title>\r\n",
       "<path fill=\"#39e581\" stroke=\"black\" d=\"M799,-298.5C799,-298.5 710,-298.5 710,-298.5 704,-298.5 698,-292.5 698,-286.5 698,-286.5 698,-242.5 698,-242.5 698,-236.5 704,-230.5 710,-230.5 710,-230.5 799,-230.5 799,-230.5 805,-230.5 811,-236.5 811,-242.5 811,-242.5 811,-286.5 811,-286.5 811,-292.5 805,-298.5 799,-298.5\"/>\r\n",
       "<text text-anchor=\"middle\" x=\"754.5\" y=\"-283.3\" font-family=\"Helvetica,sans-Serif\" font-size=\"14.00\">entropy = 0.0</text>\r\n",
       "<text text-anchor=\"middle\" x=\"754.5\" y=\"-268.3\" font-family=\"Helvetica,sans-Serif\" font-size=\"14.00\">samples = 1</text>\r\n",
       "<text text-anchor=\"middle\" x=\"754.5\" y=\"-253.3\" font-family=\"Helvetica,sans-Serif\" font-size=\"14.00\">value = [0, 1, 0]</text>\r\n",
       "<text text-anchor=\"middle\" x=\"754.5\" y=\"-238.3\" font-family=\"Helvetica,sans-Serif\" font-size=\"14.00\">class = 雪莉</text>\r\n",
       "</g>\r\n",
       "<!-- 23&#45;&gt;24 -->\r\n",
       "<g id=\"edge24\" class=\"edge\"><title>23&#45;&gt;24</title>\r\n",
       "<path fill=\"none\" stroke=\"black\" d=\"M762.337,-341.907C761.239,-331.204 760.05,-319.615 758.939,-308.776\"/>\r\n",
       "<polygon fill=\"black\" stroke=\"black\" points=\"762.404,-308.258 757.902,-298.667 755.44,-308.972 762.404,-308.258\"/>\r\n",
       "</g>\r\n",
       "<!-- 25 -->\r\n",
       "<g id=\"node26\" class=\"node\"><title>25</title>\r\n",
       "<path fill=\"#e58139\" stroke=\"black\" d=\"M930,-298.5C930,-298.5 841,-298.5 841,-298.5 835,-298.5 829,-292.5 829,-286.5 829,-286.5 829,-242.5 829,-242.5 829,-236.5 835,-230.5 841,-230.5 841,-230.5 930,-230.5 930,-230.5 936,-230.5 942,-236.5 942,-242.5 942,-242.5 942,-286.5 942,-286.5 942,-292.5 936,-298.5 930,-298.5\"/>\r\n",
       "<text text-anchor=\"middle\" x=\"885.5\" y=\"-283.3\" font-family=\"Helvetica,sans-Serif\" font-size=\"14.00\">entropy = 0.0</text>\r\n",
       "<text text-anchor=\"middle\" x=\"885.5\" y=\"-268.3\" font-family=\"Helvetica,sans-Serif\" font-size=\"14.00\">samples = 9</text>\r\n",
       "<text text-anchor=\"middle\" x=\"885.5\" y=\"-253.3\" font-family=\"Helvetica,sans-Serif\" font-size=\"14.00\">value = [9, 0, 0]</text>\r\n",
       "<text text-anchor=\"middle\" x=\"885.5\" y=\"-238.3\" font-family=\"Helvetica,sans-Serif\" font-size=\"14.00\">class = 琴酒</text>\r\n",
       "</g>\r\n",
       "<!-- 23&#45;&gt;25 -->\r\n",
       "<g id=\"edge25\" class=\"edge\"><title>23&#45;&gt;25</title>\r\n",
       "<path fill=\"none\" stroke=\"black\" d=\"M807.786,-341.907C819.683,-330.211 832.655,-317.457 844.532,-305.78\"/>\r\n",
       "<polygon fill=\"black\" stroke=\"black\" points=\"847.089,-308.174 851.766,-298.667 842.182,-303.182 847.089,-308.174\"/>\r\n",
       "</g>\r\n",
       "</g>\r\n",
       "</svg>\r\n"
      ],
      "text/plain": [
       "<graphviz.files.Source at 0x1856d372b88>"
      ]
     },
     "execution_count": 53,
     "metadata": {},
     "output_type": "execute_result"
    }
   ],
   "source": [
    "import graphviz\n",
    "dot_data = tree.export_graphviz(clf,\n",
    "                               feature_names = feature_name,\n",
    "                               class_names=[\"琴酒\",\"雪莉\",\"贝尔摩德\"],\n",
    "                               filled=True,\n",
    "                               rounded=True)\n",
    "graph = graphviz.Source(dot_data)\n",
    "graph"
   ]
  },
  {
   "cell_type": "code",
   "execution_count": 54,
   "metadata": {},
   "outputs": [
    {
     "data": {
      "text/plain": [
       "array([0.02771805, 0.        , 0.        , 0.        , 0.03722771,\n",
       "       0.26266633, 0.14342543, 0.04429657, 0.        , 0.06443723,\n",
       "       0.02841229, 0.05584157, 0.33597481])"
      ]
     },
     "execution_count": 54,
     "metadata": {},
     "output_type": "execute_result"
    }
   ],
   "source": [
    "clf.feature_importances_"
   ]
  },
  {
   "cell_type": "code",
   "execution_count": 55,
   "metadata": {},
   "outputs": [
    {
     "data": {
      "text/plain": [
       "[('酒精', 0.02771804654978142),\n",
       " ('苹果酸', 0.0),\n",
       " ('灰', 0.0),\n",
       " ('灰的碱性', 0.0),\n",
       " ('镁', 0.037227712696650594),\n",
       " ('总酚', 0.26266633145733065),\n",
       " ('类黄酮', 0.14342542895507832),\n",
       " ('非黄烷类酚类', 0.04429657498622482),\n",
       " ('花青素', 0.0),\n",
       " ('颜色强度', 0.06443723268081633),\n",
       " ('色调', 0.02841229235112023),\n",
       " ('od280/od315稀释葡萄酒', 0.05584156904497589),\n",
       " ('脯氨酸', 0.3359748112780217)]"
      ]
     },
     "execution_count": 55,
     "metadata": {},
     "output_type": "execute_result"
    }
   ],
   "source": [
    "[*zip(feature_name,clf.feature_importances_)]"
   ]
  },
  {
   "cell_type": "markdown",
   "metadata": {},
   "source": [
    "## 剪枝参数"
   ]
  },
  {
   "cell_type": "code",
   "execution_count": 56,
   "metadata": {},
   "outputs": [
    {
     "data": {
      "text/plain": [
       "1.0"
      ]
     },
     "execution_count": 56,
     "metadata": {},
     "output_type": "execute_result"
    }
   ],
   "source": [
    "score_train = clf.score(Xtrain,Ytrain)\n",
    "score_train"
   ]
  },
  {
   "cell_type": "markdown",
   "metadata": {},
   "source": [
    "max_depth 限制树的最大深度\n",
    "\n",
    "min_samples_leaf 分枝后的每个子节点都必须包含至少min_samples_leaf个训练样本\n",
    "min_samples_split 一个节点必须要包含至少min_samples_split个训练样本\n",
    "\n",
    "max_features  限制考虑的特征个数\n",
    "min_impurity_decrease 限制信息增益的大小"
   ]
  },
  {
   "cell_type": "code",
   "execution_count": 62,
   "metadata": {},
   "outputs": [
    {
     "data": {
      "image/svg+xml": [
       "<?xml version=\"1.0\" encoding=\"UTF-8\" standalone=\"no\"?>\r\n",
       "<!DOCTYPE svg PUBLIC \"-//W3C//DTD SVG 1.1//EN\"\r\n",
       " \"http://www.w3.org/Graphics/SVG/1.1/DTD/svg11.dtd\">\r\n",
       "<!-- Generated by graphviz version 2.38.0 (20140413.2041)\r\n",
       " -->\r\n",
       "<!-- Title: Tree Pages: 1 -->\r\n",
       "<svg width=\"868pt\" height=\"433pt\"\r\n",
       " viewBox=\"0.00 0.00 868.00 433.00\" xmlns=\"http://www.w3.org/2000/svg\" xmlns:xlink=\"http://www.w3.org/1999/xlink\">\r\n",
       "<g id=\"graph0\" class=\"graph\" transform=\"scale(1 1) rotate(0) translate(4 429)\">\r\n",
       "<title>Tree</title>\r\n",
       "<polygon fill=\"white\" stroke=\"none\" points=\"-4,4 -4,-429 864,-429 864,4 -4,4\"/>\r\n",
       "<!-- 0 -->\r\n",
       "<g id=\"node1\" class=\"node\"><title>0</title>\r\n",
       "<path fill=\"#e3fbed\" stroke=\"black\" d=\"M424,-425C424,-425 311,-425 311,-425 305,-425 299,-419 299,-413 299,-413 299,-354 299,-354 299,-348 305,-342 311,-342 311,-342 424,-342 424,-342 430,-342 436,-348 436,-354 436,-354 436,-413 436,-413 436,-419 430,-425 424,-425\"/>\r\n",
       "<text text-anchor=\"middle\" x=\"367.5\" y=\"-409.8\" font-family=\"Helvetica,sans-Serif\" font-size=\"14.00\">总酚 &lt;= 1.92</text>\r\n",
       "<text text-anchor=\"middle\" x=\"367.5\" y=\"-394.8\" font-family=\"Helvetica,sans-Serif\" font-size=\"14.00\">entropy = 1.564</text>\r\n",
       "<text text-anchor=\"middle\" x=\"367.5\" y=\"-379.8\" font-family=\"Helvetica,sans-Serif\" font-size=\"14.00\">samples = 124</text>\r\n",
       "<text text-anchor=\"middle\" x=\"367.5\" y=\"-364.8\" font-family=\"Helvetica,sans-Serif\" font-size=\"14.00\">value = [39, 51, 34]</text>\r\n",
       "<text text-anchor=\"middle\" x=\"367.5\" y=\"-349.8\" font-family=\"Helvetica,sans-Serif\" font-size=\"14.00\">class = 雪莉</text>\r\n",
       "</g>\r\n",
       "<!-- 1 -->\r\n",
       "<g id=\"node2\" class=\"node\"><title>1</title>\r\n",
       "<path fill=\"#c7a6f3\" stroke=\"black\" d=\"M305,-306C305,-306 200,-306 200,-306 194,-306 188,-300 188,-294 188,-294 188,-235 188,-235 188,-229 194,-223 200,-223 200,-223 305,-223 305,-223 311,-223 317,-229 317,-235 317,-235 317,-294 317,-294 317,-300 311,-306 305,-306\"/>\r\n",
       "<text text-anchor=\"middle\" x=\"252.5\" y=\"-290.8\" font-family=\"Helvetica,sans-Serif\" font-size=\"14.00\">类黄酮 &lt;= 0.933</text>\r\n",
       "<text text-anchor=\"middle\" x=\"252.5\" y=\"-275.8\" font-family=\"Helvetica,sans-Serif\" font-size=\"14.00\">entropy = 0.939</text>\r\n",
       "<text text-anchor=\"middle\" x=\"252.5\" y=\"-260.8\" font-family=\"Helvetica,sans-Serif\" font-size=\"14.00\">samples = 45</text>\r\n",
       "<text text-anchor=\"middle\" x=\"252.5\" y=\"-245.8\" font-family=\"Helvetica,sans-Serif\" font-size=\"14.00\">value = [0, 16, 29]</text>\r\n",
       "<text text-anchor=\"middle\" x=\"252.5\" y=\"-230.8\" font-family=\"Helvetica,sans-Serif\" font-size=\"14.00\">class = 贝尔摩德</text>\r\n",
       "</g>\r\n",
       "<!-- 0&#45;&gt;1 -->\r\n",
       "<g id=\"edge1\" class=\"edge\"><title>0&#45;&gt;1</title>\r\n",
       "<path fill=\"none\" stroke=\"black\" d=\"M327.601,-341.907C318.503,-332.651 308.754,-322.732 299.393,-313.209\"/>\r\n",
       "<polygon fill=\"black\" stroke=\"black\" points=\"301.834,-310.699 292.328,-306.021 296.842,-315.606 301.834,-310.699\"/>\r\n",
       "<text text-anchor=\"middle\" x=\"292.113\" y=\"-327.32\" font-family=\"Helvetica,sans-Serif\" font-size=\"14.00\">True</text>\r\n",
       "</g>\r\n",
       "<!-- 6 -->\r\n",
       "<g id=\"node7\" class=\"node\"><title>6</title>\r\n",
       "<path fill=\"#fdf4ed\" stroke=\"black\" d=\"M536,-306C536,-306 431,-306 431,-306 425,-306 419,-300 419,-294 419,-294 419,-235 419,-235 419,-229 425,-223 431,-223 431,-223 536,-223 536,-223 542,-223 548,-229 548,-235 548,-235 548,-294 548,-294 548,-300 542,-306 536,-306\"/>\r\n",
       "<text text-anchor=\"middle\" x=\"483.5\" y=\"-290.8\" font-family=\"Helvetica,sans-Serif\" font-size=\"14.00\">酒精 &lt;= 13.075</text>\r\n",
       "<text text-anchor=\"middle\" x=\"483.5\" y=\"-275.8\" font-family=\"Helvetica,sans-Serif\" font-size=\"14.00\">entropy = 1.275</text>\r\n",
       "<text text-anchor=\"middle\" x=\"483.5\" y=\"-260.8\" font-family=\"Helvetica,sans-Serif\" font-size=\"14.00\">samples = 79</text>\r\n",
       "<text text-anchor=\"middle\" x=\"483.5\" y=\"-245.8\" font-family=\"Helvetica,sans-Serif\" font-size=\"14.00\">value = [39, 35, 5]</text>\r\n",
       "<text text-anchor=\"middle\" x=\"483.5\" y=\"-230.8\" font-family=\"Helvetica,sans-Serif\" font-size=\"14.00\">class = 琴酒</text>\r\n",
       "</g>\r\n",
       "<!-- 0&#45;&gt;6 -->\r\n",
       "<g id=\"edge6\" class=\"edge\"><title>0&#45;&gt;6</title>\r\n",
       "<path fill=\"none\" stroke=\"black\" d=\"M407.746,-341.907C416.923,-332.651 426.757,-322.732 436.199,-313.209\"/>\r\n",
       "<polygon fill=\"black\" stroke=\"black\" points=\"438.77,-315.586 443.326,-306.021 433.799,-310.658 438.77,-315.586\"/>\r\n",
       "<text text-anchor=\"middle\" x=\"443.433\" y=\"-327.321\" font-family=\"Helvetica,sans-Serif\" font-size=\"14.00\">False</text>\r\n",
       "</g>\r\n",
       "<!-- 2 -->\r\n",
       "<g id=\"node3\" class=\"node\"><title>2</title>\r\n",
       "<path fill=\"#8139e5\" stroke=\"black\" d=\"M109,-179.5C109,-179.5 12,-179.5 12,-179.5 6,-179.5 0,-173.5 0,-167.5 0,-167.5 0,-123.5 0,-123.5 0,-117.5 6,-111.5 12,-111.5 12,-111.5 109,-111.5 109,-111.5 115,-111.5 121,-117.5 121,-123.5 121,-123.5 121,-167.5 121,-167.5 121,-173.5 115,-179.5 109,-179.5\"/>\r\n",
       "<text text-anchor=\"middle\" x=\"60.5\" y=\"-164.3\" font-family=\"Helvetica,sans-Serif\" font-size=\"14.00\">entropy = 0.0</text>\r\n",
       "<text text-anchor=\"middle\" x=\"60.5\" y=\"-149.3\" font-family=\"Helvetica,sans-Serif\" font-size=\"14.00\">samples = 25</text>\r\n",
       "<text text-anchor=\"middle\" x=\"60.5\" y=\"-134.3\" font-family=\"Helvetica,sans-Serif\" font-size=\"14.00\">value = [0, 0, 25]</text>\r\n",
       "<text text-anchor=\"middle\" x=\"60.5\" y=\"-119.3\" font-family=\"Helvetica,sans-Serif\" font-size=\"14.00\">class = 贝尔摩德</text>\r\n",
       "</g>\r\n",
       "<!-- 1&#45;&gt;2 -->\r\n",
       "<g id=\"edge2\" class=\"edge\"><title>1&#45;&gt;2</title>\r\n",
       "<path fill=\"none\" stroke=\"black\" d=\"M187.765,-224.052C166.999,-211.398 144.042,-197.408 123.408,-184.835\"/>\r\n",
       "<polygon fill=\"black\" stroke=\"black\" points=\"125.081,-181.756 114.721,-179.541 121.439,-187.733 125.081,-181.756\"/>\r\n",
       "</g>\r\n",
       "<!-- 3 -->\r\n",
       "<g id=\"node4\" class=\"node\"><title>3</title>\r\n",
       "<path fill=\"#6aeca0\" stroke=\"black\" d=\"M354,-187C354,-187 151,-187 151,-187 145,-187 139,-181 139,-175 139,-175 139,-116 139,-116 139,-110 145,-104 151,-104 151,-104 354,-104 354,-104 360,-104 366,-110 366,-116 366,-116 366,-175 366,-175 366,-181 360,-187 354,-187\"/>\r\n",
       "<text text-anchor=\"middle\" x=\"252.5\" y=\"-171.8\" font-family=\"Helvetica,sans-Serif\" font-size=\"14.00\">od280/od315稀释葡萄酒 &lt;= 2.042</text>\r\n",
       "<text text-anchor=\"middle\" x=\"252.5\" y=\"-156.8\" font-family=\"Helvetica,sans-Serif\" font-size=\"14.00\">entropy = 0.722</text>\r\n",
       "<text text-anchor=\"middle\" x=\"252.5\" y=\"-141.8\" font-family=\"Helvetica,sans-Serif\" font-size=\"14.00\">samples = 20</text>\r\n",
       "<text text-anchor=\"middle\" x=\"252.5\" y=\"-126.8\" font-family=\"Helvetica,sans-Serif\" font-size=\"14.00\">value = [0, 16, 4]</text>\r\n",
       "<text text-anchor=\"middle\" x=\"252.5\" y=\"-111.8\" font-family=\"Helvetica,sans-Serif\" font-size=\"14.00\">class = 雪莉</text>\r\n",
       "</g>\r\n",
       "<!-- 1&#45;&gt;3 -->\r\n",
       "<g id=\"edge3\" class=\"edge\"><title>1&#45;&gt;3</title>\r\n",
       "<path fill=\"none\" stroke=\"black\" d=\"M252.5,-222.907C252.5,-214.649 252.5,-205.864 252.5,-197.302\"/>\r\n",
       "<polygon fill=\"black\" stroke=\"black\" points=\"256,-197.021 252.5,-187.021 249,-197.021 256,-197.021\"/>\r\n",
       "</g>\r\n",
       "<!-- 4 -->\r\n",
       "<g id=\"node5\" class=\"node\"><title>4</title>\r\n",
       "<path fill=\"#a06aec\" stroke=\"black\" d=\"M161.5,-68C161.5,-68 69.5,-68 69.5,-68 63.5,-68 57.5,-62 57.5,-56 57.5,-56 57.5,-12 57.5,-12 57.5,-6 63.5,-0 69.5,-0 69.5,-0 161.5,-0 161.5,-0 167.5,-0 173.5,-6 173.5,-12 173.5,-12 173.5,-56 173.5,-56 173.5,-62 167.5,-68 161.5,-68\"/>\r\n",
       "<text text-anchor=\"middle\" x=\"115.5\" y=\"-52.8\" font-family=\"Helvetica,sans-Serif\" font-size=\"14.00\">entropy = 0.722</text>\r\n",
       "<text text-anchor=\"middle\" x=\"115.5\" y=\"-37.8\" font-family=\"Helvetica,sans-Serif\" font-size=\"14.00\">samples = 5</text>\r\n",
       "<text text-anchor=\"middle\" x=\"115.5\" y=\"-22.8\" font-family=\"Helvetica,sans-Serif\" font-size=\"14.00\">value = [0, 1, 4]</text>\r\n",
       "<text text-anchor=\"middle\" x=\"115.5\" y=\"-7.8\" font-family=\"Helvetica,sans-Serif\" font-size=\"14.00\">class = 贝尔摩德</text>\r\n",
       "</g>\r\n",
       "<!-- 3&#45;&gt;4 -->\r\n",
       "<g id=\"edge4\" class=\"edge\"><title>3&#45;&gt;4</title>\r\n",
       "<path fill=\"none\" stroke=\"black\" d=\"M201.486,-103.726C189.618,-94.2406 177,-84.1551 165.19,-74.7159\"/>\r\n",
       "<polygon fill=\"black\" stroke=\"black\" points=\"167.159,-71.8091 157.163,-68.2996 162.789,-77.2771 167.159,-71.8091\"/>\r\n",
       "</g>\r\n",
       "<!-- 5 -->\r\n",
       "<g id=\"node6\" class=\"node\"><title>5</title>\r\n",
       "<path fill=\"#39e581\" stroke=\"black\" d=\"M301,-68C301,-68 204,-68 204,-68 198,-68 192,-62 192,-56 192,-56 192,-12 192,-12 192,-6 198,-0 204,-0 204,-0 301,-0 301,-0 307,-0 313,-6 313,-12 313,-12 313,-56 313,-56 313,-62 307,-68 301,-68\"/>\r\n",
       "<text text-anchor=\"middle\" x=\"252.5\" y=\"-52.8\" font-family=\"Helvetica,sans-Serif\" font-size=\"14.00\">entropy = 0.0</text>\r\n",
       "<text text-anchor=\"middle\" x=\"252.5\" y=\"-37.8\" font-family=\"Helvetica,sans-Serif\" font-size=\"14.00\">samples = 15</text>\r\n",
       "<text text-anchor=\"middle\" x=\"252.5\" y=\"-22.8\" font-family=\"Helvetica,sans-Serif\" font-size=\"14.00\">value = [0, 15, 0]</text>\r\n",
       "<text text-anchor=\"middle\" x=\"252.5\" y=\"-7.8\" font-family=\"Helvetica,sans-Serif\" font-size=\"14.00\">class = 雪莉</text>\r\n",
       "</g>\r\n",
       "<!-- 3&#45;&gt;5 -->\r\n",
       "<g id=\"edge5\" class=\"edge\"><title>3&#45;&gt;5</title>\r\n",
       "<path fill=\"none\" stroke=\"black\" d=\"M252.5,-103.726C252.5,-95.5175 252.5,-86.8595 252.5,-78.56\"/>\r\n",
       "<polygon fill=\"black\" stroke=\"black\" points=\"256,-78.2996 252.5,-68.2996 249,-78.2996 256,-78.2996\"/>\r\n",
       "</g>\r\n",
       "<!-- 7 -->\r\n",
       "<g id=\"node8\" class=\"node\"><title>7</title>\r\n",
       "<path fill=\"#61ea9a\" stroke=\"black\" d=\"M537.5,-187C537.5,-187 429.5,-187 429.5,-187 423.5,-187 417.5,-181 417.5,-175 417.5,-175 417.5,-116 417.5,-116 417.5,-110 423.5,-104 429.5,-104 429.5,-104 537.5,-104 537.5,-104 543.5,-104 549.5,-110 549.5,-116 549.5,-116 549.5,-175 549.5,-175 549.5,-181 543.5,-187 537.5,-187\"/>\r\n",
       "<text text-anchor=\"middle\" x=\"483.5\" y=\"-171.8\" font-family=\"Helvetica,sans-Serif\" font-size=\"14.00\">脯氨酸 &lt;= 731.426</text>\r\n",
       "<text text-anchor=\"middle\" x=\"483.5\" y=\"-156.8\" font-family=\"Helvetica,sans-Serif\" font-size=\"14.00\">entropy = 0.82</text>\r\n",
       "<text text-anchor=\"middle\" x=\"483.5\" y=\"-141.8\" font-family=\"Helvetica,sans-Serif\" font-size=\"14.00\">samples = 40</text>\r\n",
       "<text text-anchor=\"middle\" x=\"483.5\" y=\"-126.8\" font-family=\"Helvetica,sans-Serif\" font-size=\"14.00\">value = [5, 33, 2]</text>\r\n",
       "<text text-anchor=\"middle\" x=\"483.5\" y=\"-111.8\" font-family=\"Helvetica,sans-Serif\" font-size=\"14.00\">class = 雪莉</text>\r\n",
       "</g>\r\n",
       "<!-- 6&#45;&gt;7 -->\r\n",
       "<g id=\"edge7\" class=\"edge\"><title>6&#45;&gt;7</title>\r\n",
       "<path fill=\"none\" stroke=\"black\" d=\"M483.5,-222.907C483.5,-214.649 483.5,-205.864 483.5,-197.302\"/>\r\n",
       "<polygon fill=\"black\" stroke=\"black\" points=\"487,-197.021 483.5,-187.021 480,-197.021 487,-197.021\"/>\r\n",
       "</g>\r\n",
       "<!-- 10 -->\r\n",
       "<g id=\"node11\" class=\"node\"><title>10</title>\r\n",
       "<path fill=\"#e99254\" stroke=\"black\" d=\"M711,-187C711,-187 614,-187 614,-187 608,-187 602,-181 602,-175 602,-175 602,-116 602,-116 602,-110 608,-104 614,-104 614,-104 711,-104 711,-104 717,-104 723,-110 723,-116 723,-116 723,-175 723,-175 723,-181 717,-187 711,-187\"/>\r\n",
       "<text text-anchor=\"middle\" x=\"662.5\" y=\"-171.8\" font-family=\"Helvetica,sans-Serif\" font-size=\"14.00\">总酚 &lt;= 2.473</text>\r\n",
       "<text text-anchor=\"middle\" x=\"662.5\" y=\"-156.8\" font-family=\"Helvetica,sans-Serif\" font-size=\"14.00\">entropy = 0.677</text>\r\n",
       "<text text-anchor=\"middle\" x=\"662.5\" y=\"-141.8\" font-family=\"Helvetica,sans-Serif\" font-size=\"14.00\">samples = 39</text>\r\n",
       "<text text-anchor=\"middle\" x=\"662.5\" y=\"-126.8\" font-family=\"Helvetica,sans-Serif\" font-size=\"14.00\">value = [34, 2, 3]</text>\r\n",
       "<text text-anchor=\"middle\" x=\"662.5\" y=\"-111.8\" font-family=\"Helvetica,sans-Serif\" font-size=\"14.00\">class = 琴酒</text>\r\n",
       "</g>\r\n",
       "<!-- 6&#45;&gt;10 -->\r\n",
       "<g id=\"edge10\" class=\"edge\"><title>6&#45;&gt;10</title>\r\n",
       "<path fill=\"none\" stroke=\"black\" d=\"M545.603,-222.907C560.939,-212.884 577.462,-202.083 593.119,-191.849\"/>\r\n",
       "<polygon fill=\"black\" stroke=\"black\" points=\"595.26,-194.632 601.715,-186.231 591.43,-188.772 595.26,-194.632\"/>\r\n",
       "</g>\r\n",
       "<!-- 8 -->\r\n",
       "<g id=\"node9\" class=\"node\"><title>8</title>\r\n",
       "<path fill=\"#46e789\" stroke=\"black\" d=\"M440,-68C440,-68 343,-68 343,-68 337,-68 331,-62 331,-56 331,-56 331,-12 331,-12 331,-6 337,-0 343,-0 343,-0 440,-0 440,-0 446,-0 452,-6 452,-12 452,-12 452,-56 452,-56 452,-62 446,-68 440,-68\"/>\r\n",
       "<text text-anchor=\"middle\" x=\"391.5\" y=\"-52.8\" font-family=\"Helvetica,sans-Serif\" font-size=\"14.00\">entropy = 0.33</text>\r\n",
       "<text text-anchor=\"middle\" x=\"391.5\" y=\"-37.8\" font-family=\"Helvetica,sans-Serif\" font-size=\"14.00\">samples = 33</text>\r\n",
       "<text text-anchor=\"middle\" x=\"391.5\" y=\"-22.8\" font-family=\"Helvetica,sans-Serif\" font-size=\"14.00\">value = [0, 31, 2]</text>\r\n",
       "<text text-anchor=\"middle\" x=\"391.5\" y=\"-7.8\" font-family=\"Helvetica,sans-Serif\" font-size=\"14.00\">class = 雪莉</text>\r\n",
       "</g>\r\n",
       "<!-- 7&#45;&gt;8 -->\r\n",
       "<g id=\"edge8\" class=\"edge\"><title>7&#45;&gt;8</title>\r\n",
       "<path fill=\"none\" stroke=\"black\" d=\"M449.243,-103.726C441.656,-94.6966 433.613,-85.1235 426.016,-76.0816\"/>\r\n",
       "<polygon fill=\"black\" stroke=\"black\" points=\"428.59,-73.7045 419.478,-68.2996 423.231,-78.2075 428.59,-73.7045\"/>\r\n",
       "</g>\r\n",
       "<!-- 9 -->\r\n",
       "<g id=\"node10\" class=\"node\"><title>9</title>\r\n",
       "<path fill=\"#efb388\" stroke=\"black\" d=\"M574.5,-68C574.5,-68 482.5,-68 482.5,-68 476.5,-68 470.5,-62 470.5,-56 470.5,-56 470.5,-12 470.5,-12 470.5,-6 476.5,-0 482.5,-0 482.5,-0 574.5,-0 574.5,-0 580.5,-0 586.5,-6 586.5,-12 586.5,-12 586.5,-56 586.5,-56 586.5,-62 580.5,-68 574.5,-68\"/>\r\n",
       "<text text-anchor=\"middle\" x=\"528.5\" y=\"-52.8\" font-family=\"Helvetica,sans-Serif\" font-size=\"14.00\">entropy = 0.863</text>\r\n",
       "<text text-anchor=\"middle\" x=\"528.5\" y=\"-37.8\" font-family=\"Helvetica,sans-Serif\" font-size=\"14.00\">samples = 7</text>\r\n",
       "<text text-anchor=\"middle\" x=\"528.5\" y=\"-22.8\" font-family=\"Helvetica,sans-Serif\" font-size=\"14.00\">value = [5, 2, 0]</text>\r\n",
       "<text text-anchor=\"middle\" x=\"528.5\" y=\"-7.8\" font-family=\"Helvetica,sans-Serif\" font-size=\"14.00\">class = 琴酒</text>\r\n",
       "</g>\r\n",
       "<!-- 7&#45;&gt;9 -->\r\n",
       "<g id=\"edge9\" class=\"edge\"><title>7&#45;&gt;9</title>\r\n",
       "<path fill=\"none\" stroke=\"black\" d=\"M500.256,-103.726C503.742,-95.2439 507.425,-86.2819 510.939,-77.7312\"/>\r\n",
       "<polygon fill=\"black\" stroke=\"black\" points=\"514.251,-78.8794 514.815,-68.2996 507.777,-76.2186 514.251,-78.8794\"/>\r\n",
       "</g>\r\n",
       "<!-- 11 -->\r\n",
       "<g id=\"node12\" class=\"node\"><title>11</title>\r\n",
       "<path fill=\"#ffffff\" stroke=\"black\" d=\"M708.5,-68C708.5,-68 616.5,-68 616.5,-68 610.5,-68 604.5,-62 604.5,-56 604.5,-56 604.5,-12 604.5,-12 604.5,-6 610.5,-0 616.5,-0 616.5,-0 708.5,-0 708.5,-0 714.5,-0 720.5,-6 720.5,-12 720.5,-12 720.5,-56 720.5,-56 720.5,-62 714.5,-68 708.5,-68\"/>\r\n",
       "<text text-anchor=\"middle\" x=\"662.5\" y=\"-52.8\" font-family=\"Helvetica,sans-Serif\" font-size=\"14.00\">entropy = 1.522</text>\r\n",
       "<text text-anchor=\"middle\" x=\"662.5\" y=\"-37.8\" font-family=\"Helvetica,sans-Serif\" font-size=\"14.00\">samples = 5</text>\r\n",
       "<text text-anchor=\"middle\" x=\"662.5\" y=\"-22.8\" font-family=\"Helvetica,sans-Serif\" font-size=\"14.00\">value = [2, 1, 2]</text>\r\n",
       "<text text-anchor=\"middle\" x=\"662.5\" y=\"-7.8\" font-family=\"Helvetica,sans-Serif\" font-size=\"14.00\">class = 琴酒</text>\r\n",
       "</g>\r\n",
       "<!-- 10&#45;&gt;11 -->\r\n",
       "<g id=\"edge11\" class=\"edge\"><title>10&#45;&gt;11</title>\r\n",
       "<path fill=\"none\" stroke=\"black\" d=\"M662.5,-103.726C662.5,-95.5175 662.5,-86.8595 662.5,-78.56\"/>\r\n",
       "<polygon fill=\"black\" stroke=\"black\" points=\"666,-78.2996 662.5,-68.2996 659,-78.2996 666,-78.2996\"/>\r\n",
       "</g>\r\n",
       "<!-- 12 -->\r\n",
       "<g id=\"node13\" class=\"node\"><title>12</title>\r\n",
       "<path fill=\"#e78945\" stroke=\"black\" d=\"M848,-68C848,-68 751,-68 751,-68 745,-68 739,-62 739,-56 739,-56 739,-12 739,-12 739,-6 745,-0 751,-0 751,-0 848,-0 848,-0 854,-0 860,-6 860,-12 860,-12 860,-56 860,-56 860,-62 854,-68 848,-68\"/>\r\n",
       "<text text-anchor=\"middle\" x=\"799.5\" y=\"-52.8\" font-family=\"Helvetica,sans-Serif\" font-size=\"14.00\">entropy = 0.382</text>\r\n",
       "<text text-anchor=\"middle\" x=\"799.5\" y=\"-37.8\" font-family=\"Helvetica,sans-Serif\" font-size=\"14.00\">samples = 34</text>\r\n",
       "<text text-anchor=\"middle\" x=\"799.5\" y=\"-22.8\" font-family=\"Helvetica,sans-Serif\" font-size=\"14.00\">value = [32, 1, 1]</text>\r\n",
       "<text text-anchor=\"middle\" x=\"799.5\" y=\"-7.8\" font-family=\"Helvetica,sans-Serif\" font-size=\"14.00\">class = 琴酒</text>\r\n",
       "</g>\r\n",
       "<!-- 10&#45;&gt;12 -->\r\n",
       "<g id=\"edge12\" class=\"edge\"><title>10&#45;&gt;12</title>\r\n",
       "<path fill=\"none\" stroke=\"black\" d=\"M713.514,-103.726C725.382,-94.2406 738,-84.1551 749.81,-74.7159\"/>\r\n",
       "<polygon fill=\"black\" stroke=\"black\" points=\"752.211,-77.2771 757.837,-68.2996 747.841,-71.8091 752.211,-77.2771\"/>\r\n",
       "</g>\r\n",
       "</g>\r\n",
       "</svg>\r\n"
      ],
      "text/plain": [
       "<graphviz.files.Source at 0x1856d45b048>"
      ]
     },
     "execution_count": 62,
     "metadata": {},
     "output_type": "execute_result"
    }
   ],
   "source": [
    "clf = tree.DecisionTreeClassifier(criterion=\"entropy\",\n",
    "                                  random_state=10,\n",
    "                                  splitter=\"random\",\n",
    "                                 max_depth=3,\n",
    "                                 min_samples_leaf=5)\n",
    "clf = clf.fit(Xtrain,Ytrain)\n",
    "dot_data = tree.export_graphviz(clf,\n",
    "                               feature_names = feature_name,\n",
    "                               class_names=[\"琴酒\",\"雪莉\",\"贝尔摩德\"],\n",
    "                               filled=True,\n",
    "                               rounded=True)\n",
    "graph1 = graphviz.Source(dot_data)\n",
    "graph1"
   ]
  },
  {
   "cell_type": "code",
   "execution_count": 63,
   "metadata": {},
   "outputs": [
    {
     "data": {
      "text/plain": [
       "0.9193548387096774"
      ]
     },
     "execution_count": 63,
     "metadata": {},
     "output_type": "execute_result"
    }
   ],
   "source": [
    "score = clf.score(Xtrain,Ytrain)\n",
    "score"
   ]
  },
  {
   "cell_type": "markdown",
   "metadata": {},
   "source": [
    "#  确认最优的剪枝参数\n",
    "\n",
    "##  使用确定超参数的曲线来确定"
   ]
  },
  {
   "cell_type": "code",
   "execution_count": 68,
   "metadata": {},
   "outputs": [
    {
     "data": {
      "image/png": "[encoded data removed]",
      "text/plain": [
       "<Figure size 432x288 with 1 Axes>"
      ]
     },
     "metadata": {
      "needs_background": "light"
     },
     "output_type": "display_data"
    }
   ],
   "source": [
    "import matplotlib.pyplot as plt\n",
    "test = []\n",
    "for i in range(10):\n",
    "    clf = tree.DecisionTreeClassifier(max_depth=3,\n",
    "                                     random_state=10,\n",
    "                                     splitter=\"random\",\n",
    "                                     criterion=\"entropy\",\n",
    "                                     min_samples_leaf=5)\n",
    "    clf = clf.fit(Xtrain,Ytrain)\n",
    "    score = clf.score(Xtest,Ytest)\n",
    "    test.append(score)\n",
    "plt.plot(range(1,11),test,color='r',label='max_depth')\n",
    "plt.legend()\n",
    "plt.show()"
   ]
  },
  {
   "cell_type": "markdown",
   "metadata": {},
   "source": [
    "##  目标权重参数"
   ]
  },
  {
   "cell_type": "markdown",
   "metadata": {},
   "source": [
    "class_weight 完成样本标签平衡的参数\n",
    "\n",
    "min_weight_fraction_leaf 比不知道样本权重的标准(如min_samples_leaf)更偏向于主导类"
   ]
  },
  {
   "cell_type": "markdown",
   "metadata": {},
   "source": [
    "## 重要属性和接口"
   ]
  },
  {
   "cell_type": "code",
   "execution_count": 69,
   "metadata": {},
   "outputs": [
    {
     "data": {
      "text/plain": [
       "array([1, 1, 1, 0, 0, 0, 1, 0, 0, 2, 2, 2, 0, 1, 1, 1, 0, 0, 1, 2, 1, 0,\n",
       "       0, 0, 0, 0, 2, 0, 0, 0, 0, 2, 1, 0, 1, 0, 1, 0, 0, 0, 1, 0, 0, 2,\n",
       "       1, 0, 1, 2, 0, 0, 2, 1, 2, 1])"
      ]
     },
     "execution_count": 69,
     "metadata": {},
     "output_type": "execute_result"
    }
   ],
   "source": [
    "#apply返回每个测试样本所在叶子结点的索引\n",
    "clf.apply(Xtest)\n",
    "\n",
    "#predict返回每个测试样本的分类/回归结果\n",
    "clf.predict(Xtest)"
   ]
  },
  {
   "cell_type": "markdown",
   "metadata": {},
   "source": [
    "#   回归树"
   ]
  },
  {
   "cell_type": "markdown",
   "metadata": {},
   "source": [
    "criterion  衡量分枝质量的指标 \"mse\"为均方误差 \"friedman_mse\"费尔德曼均方误差,\"mae\"绝对平         均误差"
   ]
  },
  {
   "cell_type": "code",
   "execution_count": 72,
   "metadata": {},
   "outputs": [
    {
     "data": {
      "text/plain": [
       "array([-16.41568627, -10.61843137, -18.30176471, -55.36803922,\n",
       "       -16.01470588, -44.70117647, -12.2148    , -91.3888    ,\n",
       "       -57.764     , -36.8134    ])"
      ]
     },
     "execution_count": 72,
     "metadata": {},
     "output_type": "execute_result"
    }
   ],
   "source": [
    "from sklearn.datasets import load_boston\n",
    "from sklearn.model_selection import cross_val_score\n",
    "from sklearn.tree import DecisionTreeRegressor\n",
    "\n",
    "boston = load_boston()\n",
    "regressor = DecisionTreeRegressor(random_state=0)#实例化\n",
    "cross_val_score(regressor,boston.data,boston.target,cv=10,scoring=\"neg_mean_squared_error\")#交叉验证"
   ]
  },
  {
   "cell_type": "code",
   "execution_count": 71,
   "metadata": {},
   "outputs": [
    {
     "data": {
      "text/plain": [
       "array([[6.3200e-03, 1.8000e+01, 2.3100e+00, ..., 1.5300e+01, 3.9690e+02,\n",
       "        4.9800e+00],\n",
       "       [2.7310e-02, 0.0000e+00, 7.0700e+00, ..., 1.7800e+01, 3.9690e+02,\n",
       "        9.1400e+00],\n",
       "       [2.7290e-02, 0.0000e+00, 7.0700e+00, ..., 1.7800e+01, 3.9283e+02,\n",
       "        4.0300e+00],\n",
       "       ...,\n",
       "       [6.0760e-02, 0.0000e+00, 1.1930e+01, ..., 2.1000e+01, 3.9690e+02,\n",
       "        5.6400e+00],\n",
       "       [1.0959e-01, 0.0000e+00, 1.1930e+01, ..., 2.1000e+01, 3.9345e+02,\n",
       "        6.4800e+00],\n",
       "       [4.7410e-02, 0.0000e+00, 1.1930e+01, ..., 2.1000e+01, 3.9690e+02,\n",
       "        7.8800e+00]])"
      ]
     },
     "execution_count": 71,
     "metadata": {},
     "output_type": "execute_result"
    }
   ],
   "source": [
    "boston.data"
   ]
  },
  {
   "cell_type": "markdown",
   "metadata": {},
   "source": [
    "## 回归树拟合正弦曲线"
   ]
  },
  {
   "cell_type": "code",
   "execution_count": 74,
   "metadata": {},
   "outputs": [],
   "source": [
    "import numpy as np\n",
    "from sklearn.tree import DecisionTreeRegressor\n",
    "import matplotlib.pyplot as plt"
   ]
  },
  {
   "cell_type": "code",
   "execution_count": 76,
   "metadata": {},
   "outputs": [],
   "source": [
    "rng = np.random.RandomState(1)\n",
    "x = np.sort(5*rng.rand(80,1),axis=0)\n",
    "y = np.sin(x).ravel()\n",
    "y[::5] += 3*(0.5 - rng.rand(16))#添加噪声"
   ]
  },
  {
   "cell_type": "code",
   "execution_count": 77,
   "metadata": {},
   "outputs": [
    {
     "data": {
      "text/plain": [
       "<matplotlib.collections.PathCollection at 0x1856eab8208>"
      ]
     },
     "execution_count": 77,
     "metadata": {},
     "output_type": "execute_result"
    },
    {
     "data": {
      "image/png": "[encoded data removed]",
      "text/plain": [
       "<Figure size 432x288 with 1 Axes>"
      ]
     },
     "metadata": {
      "needs_background": "light"
     },
     "output_type": "display_data"
    }
   ],
   "source": [
    "plt.figure()\n",
    "plt.scatter(x,y,s=20,edgecolor='black',c='darkorange',label='data')"
   ]
  },
  {
   "cell_type": "code",
   "execution_count": 78,
   "metadata": {},
   "outputs": [
    {
     "data": {
      "text/plain": [
       "DecisionTreeRegressor(ccp_alpha=0.0, criterion='mse', max_depth=5,\n",
       "                      max_features=None, max_leaf_nodes=None,\n",
       "                      min_impurity_decrease=0.0, min_impurity_split=None,\n",
       "                      min_samples_leaf=1, min_samples_split=2,\n",
       "                      min_weight_fraction_leaf=0.0, presort='deprecated',\n",
       "                      random_state=None, splitter='best')"
      ]
     },
     "execution_count": 78,
     "metadata": {},
     "output_type": "execute_result"
    }
   ],
   "source": [
    "regr1 = DecisionTreeRegressor(max_depth=2)\n",
    "regr2 = DecisionTreeRegressor(max_depth=5)\n",
    "regr1.fit(x,y)\n",
    "regr2.fit(x,y)"
   ]
  },
  {
   "cell_type": "code",
   "execution_count": 79,
   "metadata": {},
   "outputs": [],
   "source": [
    "X_test = np.arange(0.0,5.0,0.01)[:,np.newaxis] #np.newaxis  增维 "
   ]
  },
  {
   "cell_type": "code",
   "execution_count": 80,
   "metadata": {},
   "outputs": [],
   "source": [
    "y1 = regr1.predict(X_test)\n",
    "y2 = regr2.predict(X_test)"
   ]
  },
  {
   "cell_type": "code",
   "execution_count": 83,
   "metadata": {},
   "outputs": [
    {
     "data": {
      "image/png": "[encoded data removed]",
      "text/plain": [
       "<Figure size 432x288 with 1 Axes>"
      ]
     },
     "metadata": {
      "needs_background": "light"
     },
     "output_type": "display_data"
    }
   ],
   "source": [
    "plt.figure()\n",
    "plt.scatter(x,y,s=20,edgecolor='black',c='darkorange',label='data')\n",
    "plt.plot(X_test,y1,color='cornflowerblue',label='max_depth=2',linewidth=2)\n",
    "plt.plot(X_test,y2,color='yellowgreen',label='max_depth=5',linewidth=5)\n",
    "plt.xlabel(\"data\")\n",
    "plt.ylabel(\"target\")\n",
    "plt.title(\"Decision Tree Regression\")\n",
    "plt.legend()\n",
    "plt.show()"
   ]
  },
  {
   "cell_type": "markdown",
   "metadata": {},
   "source": [
    "###  由图像可知，深度为5的回归树发生了过拟合，深度为2的回归树效果较好"
   ]
  },
  {
   "cell_type": "code",
   "execution_count": null,
   "metadata": {},
   "outputs": [],
   "source": []
  }
 ],
 "metadata": {
  "kernelspec": {
   "display_name": "Python 3",
   "language": "python",
   "name": "python3"
  },
  "language_info": {
   "codemirror_mode": {
    "name": "ipython",
    "version": 3
   },
   "file_extension": ".py",
   "mimetype": "text/x-python",
   "name": "python",
   "nbconvert_exporter": "python",
   "pygments_lexer": "ipython3",
   "version": "3.7.6"
  }
 },
 "nbformat": 4,
 "nbformat_minor": 4
}
