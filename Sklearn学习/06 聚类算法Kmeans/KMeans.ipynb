{
 "cells": [
  {
   "cell_type": "code",
   "execution_count": 2,
   "metadata": {},
   "outputs": [],
   "source": [
    "from sklearn.cluster import KMeans\n",
    "from sklearn.datasets import make_blobs\n",
    "import matplotlib.pyplot as plt"
   ]
  },
  {
   "cell_type": "code",
   "execution_count": 3,
   "metadata": {},
   "outputs": [
    {
     "data": {
      "image/png": "[encoded data removed]",
      "text/plain": [
       "<Figure size 432x288 with 1 Axes>"
      ]
     },
     "metadata": {
      "needs_background": "light"
     },
     "output_type": "display_data"
    }
   ],
   "source": [
    "x,y = make_blobs(n_samples=500,n_features=2,centers=4,random_state=1)\n",
    "flg,ax1 = plt.subplots(1)\n",
    "ax1.scatter(x[:,0],x[:,1],marker='o',s=8)\n",
    "plt.show()"
   ]
  },
  {
   "cell_type": "code",
   "execution_count": 14,
   "metadata": {},
   "outputs": [],
   "source": [
    "cluster = KMeans(n_clusters=3,random_state=0).fit(x)"
   ]
  },
  {
   "cell_type": "code",
   "execution_count": 15,
   "metadata": {},
   "outputs": [
    {
     "data": {
      "text/plain": [
       "array([2, 2, 0, 1, 0, 1, 0, 0, 0, 0, 2, 2, 0, 1, 0, 2, 0, 2, 1, 0, 0, 0,\n",
       "       0, 1, 0, 0, 1, 1, 0, 0, 2, 1, 0, 2, 0, 2, 0, 0, 2, 0, 0, 0, 1, 0,\n",
       "       0, 2, 0, 0, 1, 1, 1, 0, 0, 0, 2, 0, 0, 0, 0, 0, 1, 1, 0, 0, 1, 0,\n",
       "       2, 0, 0, 0, 2, 0, 0, 2, 0, 0, 2, 0, 0, 0, 1, 1, 0, 1, 1, 0, 0, 1,\n",
       "       0, 0, 1, 2, 0, 0, 1, 2, 2, 0, 2, 1, 1, 2, 1, 0, 1, 0, 0, 1, 1, 0,\n",
       "       0, 2, 1, 0, 1, 0, 1, 0, 1, 0, 0, 2, 2, 0, 0, 0, 1, 2, 2, 0, 1, 0,\n",
       "       0, 0, 0, 2, 1, 0, 1, 1, 0, 2, 0, 1, 1, 1, 0, 0, 2, 2, 0, 0, 1, 2,\n",
       "       1, 0, 0, 0, 0, 0, 0, 0, 0, 0, 1, 2, 2, 2, 0, 1, 2, 0, 0, 2, 1, 0,\n",
       "       0, 0, 0, 2, 0, 0, 1, 2, 2, 0, 0, 2, 2, 0, 1, 1, 2, 2, 0, 1, 0, 2,\n",
       "       2, 1, 2, 0, 1, 0, 0, 2, 0, 0, 2, 0, 0, 0, 0, 2, 0, 0, 0, 1, 0, 1,\n",
       "       0, 2, 0, 0, 0, 0, 0, 1, 0, 1, 2, 0, 2, 0, 1, 1, 0, 2, 1, 2, 0, 0,\n",
       "       2, 2, 2, 2, 0, 0, 2, 0, 0, 1, 1, 0, 0, 1, 0, 0, 0, 1, 0, 1, 0, 0,\n",
       "       1, 0, 2, 2, 0, 0, 0, 0, 1, 1, 0, 1, 0, 2, 1, 2, 1, 2, 2, 1, 2, 1,\n",
       "       1, 0, 0, 0, 0, 0, 0, 0, 2, 1, 2, 2, 2, 0, 0, 0, 2, 0, 2, 2, 0, 2,\n",
       "       2, 0, 1, 2, 0, 0, 1, 1, 0, 2, 1, 1, 0, 2, 1, 1, 0, 0, 1, 0, 0, 2,\n",
       "       2, 1, 0, 2, 0, 1, 1, 0, 0, 0, 2, 0, 1, 1, 0, 1, 1, 1, 1, 2, 2, 0,\n",
       "       1, 0, 0, 2, 1, 0, 1, 0, 1, 0, 0, 0, 1, 0, 0, 2, 1, 2, 2, 2, 2, 2,\n",
       "       2, 0, 2, 1, 2, 1, 1, 0, 1, 0, 0, 0, 2, 1, 0, 1, 0, 2, 0, 0, 2, 0,\n",
       "       0, 1, 1, 2, 0, 0, 1, 0, 0, 2, 2, 0, 2, 0, 0, 2, 0, 2, 0, 1, 2, 1,\n",
       "       0, 0, 1, 0, 0, 1, 2, 0, 1, 1, 0, 0, 0, 0, 2, 1, 2, 0, 1, 2, 2, 2,\n",
       "       0, 1, 0, 2, 0, 0, 0, 0, 2, 0, 0, 0, 0, 0, 0, 2, 0, 0, 2, 0, 1, 0,\n",
       "       1, 0, 0, 0, 1, 1, 1, 0, 0, 0, 2, 0, 1, 0, 2, 1, 2, 1, 2, 0, 1, 1,\n",
       "       2, 0, 0, 2, 0, 0, 0, 2, 0, 1, 0, 0, 2, 2, 2, 0])"
      ]
     },
     "execution_count": 15,
     "metadata": {},
     "output_type": "execute_result"
    }
   ],
   "source": [
    "y_pred = cluster.labels_\n",
    "y_pred"
   ]
  },
  {
   "cell_type": "code",
   "execution_count": 16,
   "metadata": {},
   "outputs": [
    {
     "data": {
      "text/plain": [
       "array([ True,  True,  True,  True,  True,  True,  True,  True,  True,\n",
       "        True,  True,  True,  True,  True,  True,  True,  True,  True,\n",
       "        True,  True,  True,  True,  True,  True,  True,  True,  True,\n",
       "        True,  True,  True,  True,  True,  True,  True,  True,  True,\n",
       "        True,  True,  True,  True,  True,  True,  True,  True,  True,\n",
       "        True,  True,  True,  True,  True,  True,  True,  True,  True,\n",
       "        True,  True,  True,  True,  True,  True,  True,  True,  True,\n",
       "        True,  True,  True,  True,  True,  True,  True,  True,  True,\n",
       "        True,  True,  True,  True,  True,  True,  True,  True,  True,\n",
       "        True,  True,  True,  True,  True,  True,  True,  True,  True,\n",
       "        True,  True,  True,  True,  True,  True,  True,  True,  True,\n",
       "        True,  True,  True,  True,  True,  True,  True,  True,  True,\n",
       "        True,  True,  True,  True,  True,  True,  True,  True,  True,\n",
       "        True,  True,  True,  True,  True,  True,  True,  True,  True,\n",
       "        True,  True,  True,  True,  True,  True,  True,  True,  True,\n",
       "        True,  True,  True,  True,  True,  True,  True,  True,  True,\n",
       "        True,  True,  True,  True,  True,  True,  True,  True,  True,\n",
       "        True,  True,  True,  True,  True,  True,  True,  True,  True,\n",
       "        True,  True,  True,  True,  True,  True,  True,  True,  True,\n",
       "        True,  True,  True,  True,  True,  True,  True,  True,  True,\n",
       "        True,  True,  True,  True,  True,  True,  True,  True,  True,\n",
       "        True,  True,  True,  True,  True,  True,  True,  True,  True,\n",
       "        True,  True,  True,  True,  True,  True,  True,  True,  True,\n",
       "        True,  True,  True,  True,  True,  True,  True,  True,  True,\n",
       "        True,  True,  True,  True,  True,  True,  True,  True,  True,\n",
       "        True,  True,  True,  True,  True,  True,  True,  True,  True,\n",
       "        True,  True,  True,  True,  True,  True,  True,  True,  True,\n",
       "        True,  True,  True,  True,  True,  True,  True,  True,  True,\n",
       "        True,  True,  True,  True,  True,  True,  True,  True,  True,\n",
       "        True,  True,  True,  True,  True,  True,  True,  True,  True,\n",
       "        True,  True,  True,  True,  True,  True,  True,  True,  True,\n",
       "        True,  True,  True,  True,  True,  True,  True,  True,  True,\n",
       "        True,  True,  True,  True,  True,  True,  True,  True,  True,\n",
       "        True,  True,  True,  True,  True,  True,  True,  True,  True,\n",
       "        True,  True,  True,  True,  True,  True,  True,  True,  True,\n",
       "        True,  True,  True,  True,  True,  True,  True,  True,  True,\n",
       "        True,  True,  True,  True,  True,  True,  True,  True,  True,\n",
       "        True,  True,  True,  True,  True,  True,  True,  True,  True,\n",
       "        True,  True,  True,  True,  True,  True,  True,  True,  True,\n",
       "        True,  True,  True,  True,  True,  True,  True,  True,  True,\n",
       "        True,  True,  True,  True,  True,  True,  True,  True,  True,\n",
       "        True,  True,  True,  True,  True,  True,  True,  True,  True,\n",
       "        True,  True,  True,  True,  True,  True,  True,  True,  True,\n",
       "        True,  True,  True,  True,  True,  True,  True,  True,  True,\n",
       "        True,  True,  True,  True,  True,  True,  True,  True,  True,\n",
       "        True,  True,  True,  True,  True,  True,  True,  True,  True,\n",
       "        True,  True,  True,  True,  True,  True,  True,  True,  True,\n",
       "        True,  True,  True,  True,  True,  True,  True,  True,  True,\n",
       "        True,  True,  True,  True,  True,  True,  True,  True,  True,\n",
       "        True,  True,  True,  True,  True,  True,  True,  True,  True,\n",
       "        True,  True,  True,  True,  True,  True,  True,  True,  True,\n",
       "        True,  True,  True,  True,  True,  True,  True,  True,  True,\n",
       "        True,  True,  True,  True,  True,  True,  True,  True,  True,\n",
       "        True,  True,  True,  True,  True,  True,  True,  True,  True,\n",
       "        True,  True,  True,  True,  True,  True,  True,  True,  True,\n",
       "        True,  True,  True,  True,  True])"
      ]
     },
     "execution_count": 16,
     "metadata": {},
     "output_type": "execute_result"
    }
   ],
   "source": [
    "pre = cluster.fit_predict(x) #当数据量太大时，使用predict\n",
    "pre == y_pred"
   ]
  },
  {
   "cell_type": "code",
   "execution_count": 19,
   "metadata": {},
   "outputs": [],
   "source": [
    "cluster_smallsub = KMeans(n_clusters=3,random_state=0).fit(x[:100])"
   ]
  },
  {
   "cell_type": "code",
   "execution_count": 21,
   "metadata": {},
   "outputs": [
    {
     "data": {
      "text/plain": [
       "array([ True,  True,  True,  True,  True,  True,  True,  True,  True,\n",
       "        True,  True,  True,  True,  True,  True,  True,  True,  True,\n",
       "        True,  True,  True,  True,  True,  True,  True,  True,  True,\n",
       "        True,  True,  True,  True,  True,  True,  True,  True,  True,\n",
       "        True,  True,  True,  True,  True,  True,  True,  True,  True,\n",
       "        True,  True,  True,  True,  True,  True,  True,  True,  True,\n",
       "        True,  True,  True,  True,  True,  True,  True,  True,  True,\n",
       "        True,  True,  True,  True,  True,  True,  True,  True,  True,\n",
       "        True,  True,  True,  True,  True,  True,  True,  True,  True,\n",
       "        True,  True,  True,  True,  True,  True,  True,  True,  True,\n",
       "        True,  True,  True,  True,  True,  True,  True,  True,  True,\n",
       "        True,  True,  True,  True,  True,  True,  True,  True,  True,\n",
       "        True,  True,  True,  True,  True,  True,  True,  True,  True,\n",
       "        True,  True,  True,  True,  True,  True,  True,  True,  True,\n",
       "        True,  True,  True,  True,  True,  True,  True,  True,  True,\n",
       "        True,  True,  True,  True,  True,  True,  True,  True,  True,\n",
       "        True,  True,  True,  True,  True,  True,  True,  True,  True,\n",
       "        True,  True,  True,  True,  True,  True,  True,  True,  True,\n",
       "        True,  True,  True,  True,  True,  True,  True,  True,  True,\n",
       "        True,  True,  True,  True,  True,  True,  True,  True,  True,\n",
       "        True,  True,  True,  True,  True, False,  True,  True,  True,\n",
       "        True,  True,  True,  True,  True,  True,  True,  True,  True,\n",
       "        True,  True,  True,  True,  True,  True,  True,  True,  True,\n",
       "        True,  True,  True,  True,  True,  True,  True,  True,  True,\n",
       "        True,  True,  True,  True,  True,  True,  True,  True,  True,\n",
       "        True,  True,  True,  True,  True,  True,  True,  True,  True,\n",
       "        True,  True,  True,  True,  True,  True,  True,  True,  True,\n",
       "        True,  True,  True,  True,  True,  True,  True,  True,  True,\n",
       "        True,  True,  True,  True,  True,  True,  True,  True,  True,\n",
       "        True,  True,  True,  True,  True,  True,  True,  True,  True,\n",
       "        True,  True,  True,  True,  True,  True,  True,  True,  True,\n",
       "        True,  True,  True,  True,  True,  True,  True,  True,  True,\n",
       "        True,  True,  True,  True,  True,  True,  True,  True,  True,\n",
       "        True,  True,  True,  True,  True,  True,  True,  True,  True,\n",
       "        True,  True,  True,  True,  True,  True,  True,  True,  True,\n",
       "        True,  True,  True,  True,  True,  True,  True,  True,  True,\n",
       "        True,  True,  True,  True,  True,  True,  True,  True,  True,\n",
       "        True,  True,  True,  True,  True,  True,  True,  True,  True,\n",
       "        True,  True,  True,  True,  True,  True,  True,  True,  True,\n",
       "        True,  True,  True,  True,  True,  True,  True,  True,  True,\n",
       "        True,  True,  True,  True,  True,  True,  True,  True,  True,\n",
       "        True,  True,  True,  True,  True,  True,  True,  True,  True,\n",
       "        True,  True,  True,  True,  True,  True,  True,  True,  True,\n",
       "        True,  True,  True,  True,  True,  True,  True,  True,  True,\n",
       "        True,  True,  True,  True,  True,  True,  True,  True,  True,\n",
       "        True,  True,  True,  True,  True,  True,  True,  True,  True,\n",
       "        True,  True,  True,  True,  True,  True,  True,  True,  True,\n",
       "        True,  True,  True,  True,  True,  True,  True,  True,  True,\n",
       "        True,  True,  True,  True,  True,  True,  True,  True,  True,\n",
       "        True,  True,  True,  True,  True,  True,  True,  True,  True,\n",
       "        True,  True,  True,  True,  True,  True,  True,  True,  True,\n",
       "        True,  True,  True,  True,  True,  True,  True,  True,  True,\n",
       "        True,  True,  True,  True,  True,  True,  True,  True,  True,\n",
       "        True,  True,  True,  True,  True,  True,  True,  True,  True,\n",
       "        True,  True,  True,  True,  True,  True,  True,  True,  True,\n",
       "        True,  True,  True,  True,  True])"
      ]
     },
     "execution_count": 21,
     "metadata": {},
     "output_type": "execute_result"
    }
   ],
   "source": [
    "y_pred_ = cluster_smallsub.predict(x)\n",
    "y_pred_ == y_pred"
   ]
  },
  {
   "cell_type": "code",
   "execution_count": 23,
   "metadata": {},
   "outputs": [
    {
     "data": {
      "text/plain": [
       "array([[-8.09286791, -3.50997357],\n",
       "       [-1.54234022,  4.43517599],\n",
       "       [-7.0877462 , -8.08923534]])"
      ]
     },
     "execution_count": 23,
     "metadata": {},
     "output_type": "execute_result"
    }
   ],
   "source": [
    "#重要属性cluster_centers_,查看质心\n",
    "centroid = cluster.cluster_centers_\n",
    "centroid"
   ]
  },
  {
   "cell_type": "code",
   "execution_count": 24,
   "metadata": {},
   "outputs": [
    {
     "data": {
      "text/plain": [
       "1903.5342237665059"
      ]
     },
     "execution_count": 24,
     "metadata": {},
     "output_type": "execute_result"
    }
   ],
   "source": [
    "#重要属性inertia_,查看总距离平方和\n",
    "inertia = cluster.inertia_\n",
    "inertia"
   ]
  },
  {
   "cell_type": "code",
   "execution_count": 27,
   "metadata": {},
   "outputs": [
    {
     "data": {
      "image/png": "[encoded data removed]",
      "text/plain": [
       "<Figure size 432x288 with 1 Axes>"
      ]
     },
     "metadata": {
      "needs_background": "light"
     },
     "output_type": "display_data"
    }
   ],
   "source": [
    "color = ['red','green','orange','blue']\n",
    "fig,ax1 = plt.subplots(1)\n",
    "\n",
    "for i in range(3):\n",
    "    ax1.scatter(x[y_pred==i,0],x[y_pred==i,1],\n",
    "               marker='o',s=8,c=color[i])\n",
    "ax1.scatter(centroid[:,0],centroid[:,1],\n",
    "           marker='x',s=20,c='black')\n",
    "plt.show()"
   ]
  },
  {
   "cell_type": "code",
   "execution_count": 30,
   "metadata": {},
   "outputs": [
    {
     "data": {
      "text/plain": [
       "908.3855684760603"
      ]
     },
     "execution_count": 30,
     "metadata": {},
     "output_type": "execute_result"
    }
   ],
   "source": [
    "#如果将簇数换成4\n",
    "n_clusters = 4\n",
    "cluster_ = KMeans(n_clusters=n_clusters,random_state=1).fit(x)\n",
    "inertia_ = cluster_.inertia_\n",
    "inertia_"
   ]
  },
  {
   "cell_type": "code",
   "execution_count": 31,
   "metadata": {},
   "outputs": [
    {
     "data": {
      "text/plain": [
       "811.1876803154511"
      ]
     },
     "execution_count": 31,
     "metadata": {},
     "output_type": "execute_result"
    }
   ],
   "source": [
    "#换成5\n",
    "clusters2_ = KMeans(n_clusters=5,random_state=1).fit(x)\n",
    "inertia2_ = clusters2_.inertia_\n",
    "inertia2_"
   ]
  },
  {
   "cell_type": "markdown",
   "metadata": {},
   "source": [
    "当n_clusters增大，inertia_会不断减少，所以inertia_并不能拿来做KMeans的评估指标"
   ]
  },
  {
   "cell_type": "markdown",
   "metadata": {},
   "source": [
    "### 那么，如何衡量聚类算法的效果？"
   ]
  },
  {
   "cell_type": "markdown",
   "metadata": {},
   "source": [
    "1、当真实标签已知的时候\n",
    "  \n",
    "  互信息分、Vmeasure、调整兰德系数\n",
    " \n",
    "2、真实标签未知时\n",
    " \n",
    " 轮廓系数：它能够同时衡量：1)样本与其自身所在簇中的其它样本间的相似度(平均距离)a\n",
    "                  \n",
    "                  2）样本与其它簇(下个最近簇)中的样本的相似度(平均距离)b\n",
    " \n",
    "        单个样本的轮廓系数计算为 s = (b-a)/max(a,b)\n",
    "        \n",
    "3、当真实标签未知时\n",
    "\n",
    " Caliski-Harabaz指数s(k) = (Tr(Bk)/Tr(Wk))*((N-k)/k-1)，其中N为样本量，k为簇的个数，Bk是组间离散矩阵，即不同簇之间的协方差矩阵，Wk是簇内离散矩阵，即簇内数据的协方差矩阵，tr表示矩阵的迹。 指数越高越好"
   ]
  },
  {
   "cell_type": "code",
   "execution_count": 32,
   "metadata": {},
   "outputs": [],
   "source": [
    "from sklearn.metrics import silhouette_score\n",
    "from sklearn.metrics import silhouette_samples"
   ]
  },
  {
   "cell_type": "code",
   "execution_count": 33,
   "metadata": {},
   "outputs": [
    {
     "data": {
      "text/plain": [
       "0.5882004012129721"
      ]
     },
     "execution_count": 33,
     "metadata": {},
     "output_type": "execute_result"
    }
   ],
   "source": [
    "#轮廓系数\n",
    "silhouette_score(x,y_pred)"
   ]
  },
  {
   "cell_type": "code",
   "execution_count": 35,
   "metadata": {},
   "outputs": [
    {
     "data": {
      "text/plain": [
       "0.6505186632729437"
      ]
     },
     "execution_count": 35,
     "metadata": {},
     "output_type": "execute_result"
    }
   ],
   "source": [
    "silhouette_score(x,cluster_.labels_)"
   ]
  },
  {
   "cell_type": "code",
   "execution_count": 36,
   "metadata": {},
   "outputs": [
    {
     "data": {
      "text/plain": [
       "array([ 0.62982017,  0.5034877 ,  0.56148795,  0.84881844,  0.56034142,\n",
       "        0.78740319,  0.39254042,  0.4424015 ,  0.48582704,  0.41586457,\n",
       "        0.62497924,  0.75540751,  0.50080674,  0.8452256 ,  0.54730432,\n",
       "        0.60232423,  0.54574988,  0.68789747,  0.86605921,  0.25389678,\n",
       "        0.49316173,  0.47993065,  0.2222642 ,  0.8096265 ,  0.54091189,\n",
       "        0.30638567,  0.88557311,  0.84050532,  0.52855895,  0.49260117,\n",
       "        0.65291019,  0.85602282,  0.47734375,  0.60418857,  0.44210292,\n",
       "        0.6835351 ,  0.44776257,  0.423086  ,  0.6350923 ,  0.4060121 ,\n",
       "        0.54540657,  0.5628461 ,  0.78366733,  0.37063114,  0.35132112,\n",
       "        0.74493029,  0.53691616,  0.36724842,  0.87717083,  0.79594363,\n",
       "        0.84641859,  0.38341344,  0.42043012,  0.4024608 ,  0.64639537,\n",
       "        0.46244151,  0.31853572,  0.10047008,  0.37909034,  0.56424494,\n",
       "        0.86153448,  0.82630007,  0.53288582,  0.35699772,  0.86994617,\n",
       "        0.52259763,  0.71296285,  0.5269434 ,  0.42375504,  0.3173951 ,\n",
       "        0.67512993,  0.47574584,  0.44493897,  0.70152025,  0.37911024,\n",
       "        0.44338293,  0.75528756,  0.23339973,  0.48832955,  0.36920643,\n",
       "        0.84872127,  0.87346766,  0.53069113,  0.85553096,  0.85764386,\n",
       "        0.47306874,  0.02036611,  0.83126042,  0.38759022,  0.49233068,\n",
       "        0.74566044,  0.60466216,  0.56741342,  0.43416703,  0.83602352,\n",
       "        0.72477786,  0.65632253,  0.53058775,  0.60023269,  0.77641023,\n",
       "        0.84703763,  0.70993659,  0.7801523 ,  0.46161604,  0.84373446,\n",
       "        0.39295281,  0.46052385,  0.88273449,  0.87440032,  0.48304623,\n",
       "        0.53380475,  0.75891465,  0.85876382,  0.38558097,  0.85795763,\n",
       "        0.39785899,  0.85219954,  0.53642823,  0.86038619,  0.43699704,\n",
       "        0.38829633,  0.54291415,  0.69030671,  0.43887074,  0.51384962,\n",
       "        0.51912781,  0.83667847,  0.76248539,  0.69612144,  0.51530997,\n",
       "        0.86167552,  0.55346107,  0.56205672,  0.49273512,  0.38805592,\n",
       "        0.57038854,  0.68677314,  0.20332654,  0.75659329,  0.82280178,\n",
       "        0.51078711,  0.56655943,  0.39855324,  0.87777997,  0.81846156,\n",
       "        0.85011915,  0.53745726,  0.48476499,  0.57083761,  0.62520973,\n",
       "        0.48791422,  0.57163867,  0.80710385,  0.75753237,  0.80107683,\n",
       "        0.50370862,  0.49411065,  0.56270422,  0.46054445,  0.46870708,\n",
       "        0.53443711,  0.52806612,  0.54696216,  0.38036632,  0.8439417 ,\n",
       "        0.43517732,  0.74914748,  0.64728736,  0.41663216,  0.8823285 ,\n",
       "        0.65599758,  0.56449485,  0.51988053,  0.62928512,  0.88015404,\n",
       "        0.56872777,  0.39189978,  0.49345531,  0.46686063,  0.59723997,\n",
       "        0.44721036,  0.30721342,  0.75113026,  0.50932716,  0.73578982,\n",
       "       -0.11420488,  0.41858652,  0.75882296,  0.7275962 , -0.04073665,\n",
       "        0.80153593,  0.87004395,  0.68206941,  0.43331808,  0.46482802,\n",
       "        0.84659276,  0.50866477,  0.68601103,  0.74449975,  0.83022338,\n",
       "        0.73707965,  0.27681202,  0.66098479,  0.28977719,  0.51863521,\n",
       "        0.63445046,  0.40559979,  0.14818081,  0.76068525,  0.23252498,\n",
       "        0.53021521,  0.47737535,  0.20930573,  0.73655361,  0.40050939,\n",
       "        0.38201296,  0.53131423,  0.8300432 ,  0.57416668,  0.83002234,\n",
       "        0.43809863,  0.72601129,  0.30355831,  0.36933954,  0.48245049,\n",
       "        0.50126688,  0.50360422,  0.87011861,  0.56950365,  0.83076761,\n",
       "        0.71764725,  0.53645163,  0.7001754 ,  0.50522187,  0.87888555,\n",
       "        0.77936165,  0.10535855,  0.73083257,  0.87808798,  0.66433392,\n",
       "        0.46478475,  0.37703473,  0.73374533,  0.74890043,  0.73918627,\n",
       "        0.63932594,  0.09590229,  0.56398421,  0.65471361,  0.32850826,\n",
       "        0.50686886,  0.82252268,  0.8784639 ,  0.50307722,  0.55480534,\n",
       "        0.87909816,  0.47641098,  0.31311959,  0.52686075,  0.88545307,\n",
       "        0.20448704,  0.80778118,  0.44642434,  0.40574811,  0.88056023,\n",
       "        0.4973487 ,  0.69311101,  0.72625355,  0.48589387,  0.4978385 ,\n",
       "        0.55313636,  0.50253656,  0.87260952,  0.86131163,  0.40383223,\n",
       "        0.86877735,  0.47545049,  0.55504965,  0.88434796,  0.70495153,\n",
       "        0.88081422,  0.73413228,  0.74319485,  0.86247661,  0.68152552,\n",
       "        0.87029291,  0.81761732,  0.55085702,  0.49102505,  0.55389601,\n",
       "        0.124766  ,  0.4404892 ,  0.53977082,  0.57674226,  0.52475521,\n",
       "        0.71693971,  0.59037229,  0.27134864,  0.55075649,  0.5305809 ,\n",
       "        0.45997724,  0.52098416,  0.69242901,  0.42370109,  0.55411474,\n",
       "        0.56138849,  0.53447704,  0.69329183,  0.54368936,  0.32886853,\n",
       "        0.86126399,  0.71469113,  0.49146367,  0.50494774,  0.82158862,\n",
       "        0.86861319,  0.54403438,  0.73940315,  0.81462808,  0.84352203,\n",
       "        0.48207009,  0.7354327 ,  0.78085872,  0.87875202,  0.04033208,\n",
       "        0.50804578,  0.80938918,  0.51061604,  0.38053425,  0.64455589,\n",
       "        0.67957545,  0.87709406,  0.54770971,  0.49617626,  0.06631062,\n",
       "        0.82052164,  0.85247897,  0.4986702 ,  0.41583248,  0.53794955,\n",
       "        0.73049329,  0.28601778,  0.87874615,  0.86432778,  0.53085921,\n",
       "        0.81504707,  0.80902757,  0.73654387,  0.79629133,  0.69825831,\n",
       "        0.71042076,  0.37753505,  0.87392688,  0.36052199,  0.53293388,\n",
       "        0.65652301,  0.8590337 ,  0.37778142,  0.88171647,  0.55744616,\n",
       "        0.72988524,  0.47205379,  0.25321102,  0.36665898,  0.87510459,\n",
       "        0.54567292,  0.4377203 ,  0.69836179,  0.88279947,  0.73712769,\n",
       "        0.7571288 ,  0.64200399,  0.71414246,  0.66105524,  0.64924985,\n",
       "       -0.03393189,  0.67879166,  0.87717775,  0.70483203,  0.81570721,\n",
       "        0.88445546,  0.42536337,  0.84352976,  0.19940384,  0.33446675,\n",
       "       -0.05200008,  0.63729057,  0.86077417,  0.29232998,  0.85936207,\n",
       "        0.01230106,  0.74072871,  0.54572786,  0.4226642 ,  0.75803727,\n",
       "        0.41490286,  0.47701084,  0.81796862,  0.80656788,  0.63246787,\n",
       "        0.43149716,  0.47554846,  0.67481449,  0.29491288,  0.47884262,\n",
       "        0.73531065,  0.74909774,  0.53905722,  0.60853703,  0.41799506,\n",
       "        0.26889856,  0.65941878,  0.57469934,  0.74695893,  0.53566443,\n",
       "        0.87031783,  0.55546256,  0.74959292,  0.52013136,  0.48602131,\n",
       "        0.84252024,  0.5553399 ,  0.32396765,  0.83121787,  0.6507822 ,\n",
       "        0.40589711,  0.81861161,  0.85537229,  0.51500612,  0.46370284,\n",
       "        0.35233694,  0.41423309,  0.66647621,  0.87838551,  0.55564776,\n",
       "        0.52172866,  0.80216634,  0.74626963,  0.70305507,  0.727976  ,\n",
       "        0.4315848 ,  0.71546113, -0.14042082,  0.70475791,  0.54510442,\n",
       "        0.49963818,  0.50497552,  0.5260391 ,  0.7371355 ,  0.39249758,\n",
       "        0.47181954,  0.51361169,  0.4902578 ,  0.42402416,  0.54710266,\n",
       "        0.42517899,  0.54612333,  0.40920498,  0.73864644,  0.5056526 ,\n",
       "        0.87463183,  0.41531738,  0.88324604,  0.4574416 ,  0.50326717,\n",
       "        0.56519891,  0.86397315,  0.84031419,  0.81795975,  0.55956891,\n",
       "        0.43032946,  0.28423933,  0.75002919,  0.53694244,  0.86418082,\n",
       "        0.50509088,  0.75702551,  0.85123063,  0.47073065,  0.85904201,\n",
       "        0.69214588,  0.32746785,  0.87507056,  0.77556871,  0.47820639,\n",
       "        0.37692453,  0.23345891,  0.46482472,  0.36325517,  0.17966353,\n",
       "        0.31925836,  0.67652463,  0.35889712,  0.87965911,  0.3907438 ,\n",
       "        0.5748237 ,  0.74655924,  0.57403918,  0.69733646,  0.52992071])"
      ]
     },
     "execution_count": 36,
     "metadata": {},
     "output_type": "execute_result"
    }
   ],
   "source": [
    "silhouette_samples(x,y_pred)"
   ]
  },
  {
   "cell_type": "code",
   "execution_count": 40,
   "metadata": {},
   "outputs": [],
   "source": [
    "#Callinski-Harabaz\n",
    "from sklearn.metrics import calinski_harabasz_score"
   ]
  },
  {
   "cell_type": "code",
   "execution_count": 42,
   "metadata": {},
   "outputs": [
    {
     "data": {
      "text/plain": [
       "1809.991966958033"
      ]
     },
     "execution_count": 42,
     "metadata": {},
     "output_type": "execute_result"
    }
   ],
   "source": [
    "calinski_harabasz_score(x,y_pred)"
   ]
  },
  {
   "cell_type": "code",
   "execution_count": 43,
   "metadata": {},
   "outputs": [
    {
     "data": {
      "text/plain": [
       "0.000997304916381836"
      ]
     },
     "execution_count": 43,
     "metadata": {},
     "output_type": "execute_result"
    }
   ],
   "source": [
    "#时间戳计算运行时间\n",
    "from time import time\n",
    "\n",
    "t0 = time()\n",
    "calinski_harabasz_score(x,y_pred)\n",
    "time() - t0"
   ]
  },
  {
   "cell_type": "code",
   "execution_count": 45,
   "metadata": {},
   "outputs": [
    {
     "data": {
      "text/plain": [
       "0.007976293563842773"
      ]
     },
     "execution_count": 45,
     "metadata": {},
     "output_type": "execute_result"
    }
   ],
   "source": [
    "t1 = time()\n",
    "silhouette_score(x,y_pred)\n",
    "time() - t1"
   ]
  },
  {
   "cell_type": "code",
   "execution_count": 48,
   "metadata": {},
   "outputs": [
    {
     "data": {
      "text/plain": [
       "'2020-11-11-12:22:34'"
      ]
     },
     "execution_count": 48,
     "metadata": {},
     "output_type": "execute_result"
    }
   ],
   "source": [
    "#时间戳可以通过datetime中的fromtimestamp转换成真正的时间格式\n",
    "import datetime\n",
    "datetime.datetime.fromtimestamp(t0).strftime(\"%Y-%m-%d-%H:%M:%S\")"
   ]
  },
  {
   "cell_type": "code",
   "execution_count": null,
   "metadata": {},
   "outputs": [],
   "source": []
  }
 ],
 "metadata": {
  "kernelspec": {
   "display_name": "Python 3",
   "language": "python",
   "name": "python3"
  },
  "language_info": {
   "codemirror_mode": {
    "name": "ipython",
    "version": 3
   },
   "file_extension": ".py",
   "mimetype": "text/x-python",
   "name": "python",
   "nbconvert_exporter": "python",
   "pygments_lexer": "ipython3",
   "version": "3.7.6"
  }
 },
 "nbformat": 4,
 "nbformat_minor": 4
}
